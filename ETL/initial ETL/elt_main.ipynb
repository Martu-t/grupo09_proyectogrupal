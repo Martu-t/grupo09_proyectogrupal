{
 "cells": [
  {
   "cell_type": "code",
   "execution_count": 2,
   "metadata": {},
   "outputs": [],
   "source": [
    "#Is necesary to have this libraries intalled before to run the Notebook. \n",
    "#!pip intall pandas\n",
    "#!pip intall numpy\n",
    "#!pip install matplotlib\n",
    "#!pip install seaborn\n",
    "#!pip install missingno \n",
    "import pandas as pd\n",
    "import numpy as np\n",
    "from datetime import datetime\n",
    "\n",
    "import matplotlib.pyplot as plt # nos permite hacer gráficos\n",
    "import seaborn as sns #nos permite hacer gráficos bonitos"
   ]
  },
  {
   "cell_type": "code",
   "execution_count": 3,
   "metadata": {},
   "outputs": [],
   "source": [
    "#read dataset  \n",
    "data = pd.read_csv('USGS_events_2010-01-01_2022-11-01.csv')"
   ]
  },
  {
   "cell_type": "code",
   "execution_count": 5,
   "metadata": {},
   "outputs": [
    {
     "data": {
      "text/html": [
       "<div>\n",
       "<style scoped>\n",
       "    .dataframe tbody tr th:only-of-type {\n",
       "        vertical-align: middle;\n",
       "    }\n",
       "\n",
       "    .dataframe tbody tr th {\n",
       "        vertical-align: top;\n",
       "    }\n",
       "\n",
       "    .dataframe thead th {\n",
       "        text-align: right;\n",
       "    }\n",
       "</style>\n",
       "<table border=\"1\" class=\"dataframe\">\n",
       "  <thead>\n",
       "    <tr style=\"text-align: right;\">\n",
       "      <th></th>\n",
       "      <th>id</th>\n",
       "      <th>mag</th>\n",
       "      <th>place</th>\n",
       "      <th>time</th>\n",
       "      <th>updated</th>\n",
       "      <th>tz</th>\n",
       "      <th>url</th>\n",
       "      <th>detail</th>\n",
       "      <th>felt</th>\n",
       "      <th>cdi</th>\n",
       "      <th>...</th>\n",
       "      <th>sources</th>\n",
       "      <th>types</th>\n",
       "      <th>nst</th>\n",
       "      <th>dmin</th>\n",
       "      <th>rms</th>\n",
       "      <th>gap</th>\n",
       "      <th>magType</th>\n",
       "      <th>type</th>\n",
       "      <th>title</th>\n",
       "      <th>geometry</th>\n",
       "    </tr>\n",
       "  </thead>\n",
       "  <tbody>\n",
       "    <tr>\n",
       "      <th>0</th>\n",
       "      <td>nc71338046</td>\n",
       "      <td>1.02</td>\n",
       "      <td>8 km W of Cobb, California</td>\n",
       "      <td>1263081589050</td>\n",
       "      <td>1485021181190</td>\n",
       "      <td>NaN</td>\n",
       "      <td>https://earthquake.usgs.gov/earthquakes/eventp...</td>\n",
       "      <td>https://earthquake.usgs.gov/fdsnws/event/1/que...</td>\n",
       "      <td>NaN</td>\n",
       "      <td>NaN</td>\n",
       "      <td>...</td>\n",
       "      <td>,nc,</td>\n",
       "      <td>,focal-mechanism,nearby-cities,origin,phase-data,</td>\n",
       "      <td>30.0</td>\n",
       "      <td>0.009910</td>\n",
       "      <td>0.0800</td>\n",
       "      <td>47.00</td>\n",
       "      <td>md</td>\n",
       "      <td>earthquake</td>\n",
       "      <td>M 1.0 - 8 km W of Cobb, California</td>\n",
       "      <td>POINT Z (-122.8203333 38.8163333 1.929)</td>\n",
       "    </tr>\n",
       "    <tr>\n",
       "      <th>1</th>\n",
       "      <td>nn00301678</td>\n",
       "      <td>1.30</td>\n",
       "      <td>64 km ESE of Goldfield, Nevada</td>\n",
       "      <td>1263081050837</td>\n",
       "      <td>1528923095942</td>\n",
       "      <td>NaN</td>\n",
       "      <td>https://earthquake.usgs.gov/earthquakes/eventp...</td>\n",
       "      <td>https://earthquake.usgs.gov/fdsnws/event/1/que...</td>\n",
       "      <td>NaN</td>\n",
       "      <td>NaN</td>\n",
       "      <td>...</td>\n",
       "      <td>,nn,</td>\n",
       "      <td>,origin,phase-data,</td>\n",
       "      <td>20.0</td>\n",
       "      <td>0.223000</td>\n",
       "      <td>0.1138</td>\n",
       "      <td>114.57</td>\n",
       "      <td>ml</td>\n",
       "      <td>earthquake</td>\n",
       "      <td>M 1.3 - 64 km ESE of Goldfield, Nevada</td>\n",
       "      <td>POINT Z (-116.5613 37.4935 11.7)</td>\n",
       "    </tr>\n",
       "    <tr>\n",
       "      <th>2</th>\n",
       "      <td>nc71338036</td>\n",
       "      <td>0.57</td>\n",
       "      <td>6 km WNW of Cobb, California</td>\n",
       "      <td>1263080589630</td>\n",
       "      <td>1485021171979</td>\n",
       "      <td>NaN</td>\n",
       "      <td>https://earthquake.usgs.gov/earthquakes/eventp...</td>\n",
       "      <td>https://earthquake.usgs.gov/fdsnws/event/1/que...</td>\n",
       "      <td>NaN</td>\n",
       "      <td>NaN</td>\n",
       "      <td>...</td>\n",
       "      <td>,nc,</td>\n",
       "      <td>,nearby-cities,origin,phase-data,</td>\n",
       "      <td>8.0</td>\n",
       "      <td>0.009009</td>\n",
       "      <td>0.1300</td>\n",
       "      <td>99.00</td>\n",
       "      <td>md</td>\n",
       "      <td>earthquake</td>\n",
       "      <td>M 0.6 - 6 km WNW of Cobb, California</td>\n",
       "      <td>POINT Z (-122.791832 38.847332 1.555)</td>\n",
       "    </tr>\n",
       "    <tr>\n",
       "      <th>3</th>\n",
       "      <td>nc71338031</td>\n",
       "      <td>0.46</td>\n",
       "      <td>5 km SW of Cobb, California</td>\n",
       "      <td>1263080476030</td>\n",
       "      <td>1485021167427</td>\n",
       "      <td>NaN</td>\n",
       "      <td>https://earthquake.usgs.gov/earthquakes/eventp...</td>\n",
       "      <td>https://earthquake.usgs.gov/fdsnws/event/1/que...</td>\n",
       "      <td>NaN</td>\n",
       "      <td>NaN</td>\n",
       "      <td>...</td>\n",
       "      <td>,nc,</td>\n",
       "      <td>,nearby-cities,origin,phase-data,</td>\n",
       "      <td>5.0</td>\n",
       "      <td>0.013510</td>\n",
       "      <td>0.0200</td>\n",
       "      <td>138.00</td>\n",
       "      <td>md</td>\n",
       "      <td>earthquake</td>\n",
       "      <td>M 0.5 - 5 km SW of Cobb, California</td>\n",
       "      <td>POINT Z (-122.7675 38.7883333 1.196)</td>\n",
       "    </tr>\n",
       "    <tr>\n",
       "      <th>4</th>\n",
       "      <td>uu50393750</td>\n",
       "      <td>1.20</td>\n",
       "      <td>10 km SSE of Cedar City, Utah</td>\n",
       "      <td>1263080229400</td>\n",
       "      <td>1535502598580</td>\n",
       "      <td>NaN</td>\n",
       "      <td>https://earthquake.usgs.gov/earthquakes/eventp...</td>\n",
       "      <td>https://earthquake.usgs.gov/fdsnws/event/1/que...</td>\n",
       "      <td>NaN</td>\n",
       "      <td>NaN</td>\n",
       "      <td>...</td>\n",
       "      <td>,uu,</td>\n",
       "      <td>,origin,phase-data,</td>\n",
       "      <td>8.0</td>\n",
       "      <td>0.139200</td>\n",
       "      <td>0.1400</td>\n",
       "      <td>76.00</td>\n",
       "      <td>md</td>\n",
       "      <td>earthquake</td>\n",
       "      <td>M 1.2 - 10 km SSE of Cedar City, Utah</td>\n",
       "      <td>POINT Z (-113.0371667 37.589 5.48)</td>\n",
       "    </tr>\n",
       "  </tbody>\n",
       "</table>\n",
       "<p>5 rows × 28 columns</p>\n",
       "</div>"
      ],
      "text/plain": [
       "           id   mag                           place           time  \\\n",
       "0  nc71338046  1.02      8 km W of Cobb, California  1263081589050   \n",
       "1  nn00301678  1.30  64 km ESE of Goldfield, Nevada  1263081050837   \n",
       "2  nc71338036  0.57    6 km WNW of Cobb, California  1263080589630   \n",
       "3  nc71338031  0.46     5 km SW of Cobb, California  1263080476030   \n",
       "4  uu50393750  1.20   10 km SSE of Cedar City, Utah  1263080229400   \n",
       "\n",
       "         updated  tz                                                url  \\\n",
       "0  1485021181190 NaN  https://earthquake.usgs.gov/earthquakes/eventp...   \n",
       "1  1528923095942 NaN  https://earthquake.usgs.gov/earthquakes/eventp...   \n",
       "2  1485021171979 NaN  https://earthquake.usgs.gov/earthquakes/eventp...   \n",
       "3  1485021167427 NaN  https://earthquake.usgs.gov/earthquakes/eventp...   \n",
       "4  1535502598580 NaN  https://earthquake.usgs.gov/earthquakes/eventp...   \n",
       "\n",
       "                                              detail  felt  cdi  ...  sources  \\\n",
       "0  https://earthquake.usgs.gov/fdsnws/event/1/que...   NaN  NaN  ...     ,nc,   \n",
       "1  https://earthquake.usgs.gov/fdsnws/event/1/que...   NaN  NaN  ...     ,nn,   \n",
       "2  https://earthquake.usgs.gov/fdsnws/event/1/que...   NaN  NaN  ...     ,nc,   \n",
       "3  https://earthquake.usgs.gov/fdsnws/event/1/que...   NaN  NaN  ...     ,nc,   \n",
       "4  https://earthquake.usgs.gov/fdsnws/event/1/que...   NaN  NaN  ...     ,uu,   \n",
       "\n",
       "                                               types   nst      dmin     rms  \\\n",
       "0  ,focal-mechanism,nearby-cities,origin,phase-data,  30.0  0.009910  0.0800   \n",
       "1                                ,origin,phase-data,  20.0  0.223000  0.1138   \n",
       "2                  ,nearby-cities,origin,phase-data,   8.0  0.009009  0.1300   \n",
       "3                  ,nearby-cities,origin,phase-data,   5.0  0.013510  0.0200   \n",
       "4                                ,origin,phase-data,   8.0  0.139200  0.1400   \n",
       "\n",
       "      gap magType        type                                   title  \\\n",
       "0   47.00      md  earthquake      M 1.0 - 8 km W of Cobb, California   \n",
       "1  114.57      ml  earthquake  M 1.3 - 64 km ESE of Goldfield, Nevada   \n",
       "2   99.00      md  earthquake    M 0.6 - 6 km WNW of Cobb, California   \n",
       "3  138.00      md  earthquake     M 0.5 - 5 km SW of Cobb, California   \n",
       "4   76.00      md  earthquake   M 1.2 - 10 km SSE of Cedar City, Utah   \n",
       "\n",
       "                                  geometry  \n",
       "0  POINT Z (-122.8203333 38.8163333 1.929)  \n",
       "1         POINT Z (-116.5613 37.4935 11.7)  \n",
       "2    POINT Z (-122.791832 38.847332 1.555)  \n",
       "3     POINT Z (-122.7675 38.7883333 1.196)  \n",
       "4       POINT Z (-113.0371667 37.589 5.48)  \n",
       "\n",
       "[5 rows x 28 columns]"
      ]
     },
     "execution_count": 5,
     "metadata": {},
     "output_type": "execute_result"
    }
   ],
   "source": [
    "data.head()"
   ]
  },
  {
   "cell_type": "code",
   "execution_count": 5,
   "metadata": {},
   "outputs": [
    {
     "data": {
      "text/html": [
       "<div>\n",
       "<style scoped>\n",
       "    .dataframe tbody tr th:only-of-type {\n",
       "        vertical-align: middle;\n",
       "    }\n",
       "\n",
       "    .dataframe tbody tr th {\n",
       "        vertical-align: top;\n",
       "    }\n",
       "\n",
       "    .dataframe thead th {\n",
       "        text-align: right;\n",
       "    }\n",
       "</style>\n",
       "<table border=\"1\" class=\"dataframe\">\n",
       "  <thead>\n",
       "    <tr style=\"text-align: right;\">\n",
       "      <th></th>\n",
       "      <th>mag</th>\n",
       "      <th>time</th>\n",
       "      <th>updated</th>\n",
       "      <th>tz</th>\n",
       "      <th>felt</th>\n",
       "      <th>cdi</th>\n",
       "      <th>mmi</th>\n",
       "      <th>tsunami</th>\n",
       "      <th>sig</th>\n",
       "      <th>nst</th>\n",
       "      <th>dmin</th>\n",
       "      <th>rms</th>\n",
       "      <th>gap</th>\n",
       "    </tr>\n",
       "  </thead>\n",
       "  <tbody>\n",
       "    <tr>\n",
       "      <th>count</th>\n",
       "      <td>1.849439e+06</td>\n",
       "      <td>1.857134e+06</td>\n",
       "      <td>1.857134e+06</td>\n",
       "      <td>12.000000</td>\n",
       "      <td>97636.000000</td>\n",
       "      <td>97636.000000</td>\n",
       "      <td>16550.000000</td>\n",
       "      <td>1.857134e+06</td>\n",
       "      <td>1.857134e+06</td>\n",
       "      <td>1.215038e+06</td>\n",
       "      <td>1.241974e+06</td>\n",
       "      <td>1.835863e+06</td>\n",
       "      <td>1.384726e+06</td>\n",
       "    </tr>\n",
       "    <tr>\n",
       "      <th>mean</th>\n",
       "      <td>1.632695e+00</td>\n",
       "      <td>1.482607e+12</td>\n",
       "      <td>1.546622e+12</td>\n",
       "      <td>-480.000000</td>\n",
       "      <td>38.667131</td>\n",
       "      <td>2.314487</td>\n",
       "      <td>3.762759</td>\n",
       "      <td>8.109269e-04</td>\n",
       "      <td>6.545529e+01</td>\n",
       "      <td>2.038371e+01</td>\n",
       "      <td>5.363545e-01</td>\n",
       "      <td>3.071704e-01</td>\n",
       "      <td>1.243808e+02</td>\n",
       "    </tr>\n",
       "    <tr>\n",
       "      <th>std</th>\n",
       "      <td>1.264040e+00</td>\n",
       "      <td>1.153919e+11</td>\n",
       "      <td>6.522671e+10</td>\n",
       "      <td>88.625874</td>\n",
       "      <td>771.716791</td>\n",
       "      <td>1.374860</td>\n",
       "      <td>1.621890</td>\n",
       "      <td>2.846524e-02</td>\n",
       "      <td>9.747124e+01</td>\n",
       "      <td>2.584463e+01</td>\n",
       "      <td>2.105069e+00</td>\n",
       "      <td>3.023745e-01</td>\n",
       "      <td>6.865756e+01</td>\n",
       "    </tr>\n",
       "    <tr>\n",
       "      <th>min</th>\n",
       "      <td>-9.990000e+00</td>\n",
       "      <td>1.262305e+12</td>\n",
       "      <td>1.360130e+12</td>\n",
       "      <td>-600.000000</td>\n",
       "      <td>0.000000</td>\n",
       "      <td>0.000000</td>\n",
       "      <td>0.000000</td>\n",
       "      <td>0.000000e+00</td>\n",
       "      <td>0.000000e+00</td>\n",
       "      <td>0.000000e+00</td>\n",
       "      <td>0.000000e+00</td>\n",
       "      <td>0.000000e+00</td>\n",
       "      <td>7.000000e+00</td>\n",
       "    </tr>\n",
       "    <tr>\n",
       "      <th>25%</th>\n",
       "      <td>8.000000e-01</td>\n",
       "      <td>1.387861e+12</td>\n",
       "      <td>1.486587e+12</td>\n",
       "      <td>-540.000000</td>\n",
       "      <td>0.000000</td>\n",
       "      <td>1.000000</td>\n",
       "      <td>3.010000</td>\n",
       "      <td>0.000000e+00</td>\n",
       "      <td>1.000000e+01</td>\n",
       "      <td>8.000000e+00</td>\n",
       "      <td>1.995000e-02</td>\n",
       "      <td>9.000000e-02</td>\n",
       "      <td>7.300000e+01</td>\n",
       "    </tr>\n",
       "    <tr>\n",
       "      <th>50%</th>\n",
       "      <td>1.320000e+00</td>\n",
       "      <td>1.499052e+12</td>\n",
       "      <td>1.557596e+12</td>\n",
       "      <td>-480.000000</td>\n",
       "      <td>1.000000</td>\n",
       "      <td>2.000000</td>\n",
       "      <td>3.830000</td>\n",
       "      <td>0.000000e+00</td>\n",
       "      <td>2.600000e+01</td>\n",
       "      <td>1.400000e+01</td>\n",
       "      <td>5.871000e-02</td>\n",
       "      <td>1.800000e-01</td>\n",
       "      <td>1.080000e+02</td>\n",
       "    </tr>\n",
       "    <tr>\n",
       "      <th>75%</th>\n",
       "      <td>2.100000e+00</td>\n",
       "      <td>1.581656e+12</td>\n",
       "      <td>1.594067e+12</td>\n",
       "      <td>-480.000000</td>\n",
       "      <td>5.000000</td>\n",
       "      <td>3.200000</td>\n",
       "      <td>4.620000</td>\n",
       "      <td>0.000000e+00</td>\n",
       "      <td>6.800000e+01</td>\n",
       "      <td>2.400000e+01</td>\n",
       "      <td>1.540000e-01</td>\n",
       "      <td>4.800000e-01</td>\n",
       "      <td>1.610000e+02</td>\n",
       "    </tr>\n",
       "    <tr>\n",
       "      <th>max</th>\n",
       "      <td>9.100000e+00</td>\n",
       "      <td>1.667261e+12</td>\n",
       "      <td>1.668566e+12</td>\n",
       "      <td>-240.000000</td>\n",
       "      <td>131616.000000</td>\n",
       "      <td>9.100000</td>\n",
       "      <td>9.329000</td>\n",
       "      <td>1.000000e+00</td>\n",
       "      <td>2.910000e+03</td>\n",
       "      <td>9.340000e+02</td>\n",
       "      <td>1.411600e+02</td>\n",
       "      <td>4.624000e+01</td>\n",
       "      <td>3.600000e+02</td>\n",
       "    </tr>\n",
       "  </tbody>\n",
       "</table>\n",
       "</div>"
      ],
      "text/plain": [
       "                mag          time       updated          tz           felt  \\\n",
       "count  1.849439e+06  1.857134e+06  1.857134e+06   12.000000   97636.000000   \n",
       "mean   1.632695e+00  1.482607e+12  1.546622e+12 -480.000000      38.667131   \n",
       "std    1.264040e+00  1.153919e+11  6.522671e+10   88.625874     771.716791   \n",
       "min   -9.990000e+00  1.262305e+12  1.360130e+12 -600.000000       0.000000   \n",
       "25%    8.000000e-01  1.387861e+12  1.486587e+12 -540.000000       0.000000   \n",
       "50%    1.320000e+00  1.499052e+12  1.557596e+12 -480.000000       1.000000   \n",
       "75%    2.100000e+00  1.581656e+12  1.594067e+12 -480.000000       5.000000   \n",
       "max    9.100000e+00  1.667261e+12  1.668566e+12 -240.000000  131616.000000   \n",
       "\n",
       "                cdi           mmi       tsunami           sig           nst  \\\n",
       "count  97636.000000  16550.000000  1.857134e+06  1.857134e+06  1.215038e+06   \n",
       "mean       2.314487      3.762759  8.109269e-04  6.545529e+01  2.038371e+01   \n",
       "std        1.374860      1.621890  2.846524e-02  9.747124e+01  2.584463e+01   \n",
       "min        0.000000      0.000000  0.000000e+00  0.000000e+00  0.000000e+00   \n",
       "25%        1.000000      3.010000  0.000000e+00  1.000000e+01  8.000000e+00   \n",
       "50%        2.000000      3.830000  0.000000e+00  2.600000e+01  1.400000e+01   \n",
       "75%        3.200000      4.620000  0.000000e+00  6.800000e+01  2.400000e+01   \n",
       "max        9.100000      9.329000  1.000000e+00  2.910000e+03  9.340000e+02   \n",
       "\n",
       "               dmin           rms           gap  \n",
       "count  1.241974e+06  1.835863e+06  1.384726e+06  \n",
       "mean   5.363545e-01  3.071704e-01  1.243808e+02  \n",
       "std    2.105069e+00  3.023745e-01  6.865756e+01  \n",
       "min    0.000000e+00  0.000000e+00  7.000000e+00  \n",
       "25%    1.995000e-02  9.000000e-02  7.300000e+01  \n",
       "50%    5.871000e-02  1.800000e-01  1.080000e+02  \n",
       "75%    1.540000e-01  4.800000e-01  1.610000e+02  \n",
       "max    1.411600e+02  4.624000e+01  3.600000e+02  "
      ]
     },
     "execution_count": 5,
     "metadata": {},
     "output_type": "execute_result"
    }
   ],
   "source": [
    "# quick check most important measurments (also checking if max/min are too high/low)\n",
    "data.describe()"
   ]
  },
  {
   "cell_type": "code",
   "execution_count": null,
   "metadata": {},
   "outputs": [],
   "source": [
    "#drop all columns that we are not going to use.\n",
    "#Please refer to eda.ipynb for a better understanding of this desition"
   ]
  },
  {
   "cell_type": "code",
   "execution_count": 6,
   "metadata": {},
   "outputs": [],
   "source": [
    "def delete_col(df):\n",
    "    '''\n",
    "    Takes as arg a df and deliminate specific columns with pandas\n",
    "    '''\n",
    "    df_1 = df.drop(['url', 'detail', 'tz', 'alert'], axis=1)\n",
    "    return df_1"
   ]
  },
  {
   "cell_type": "code",
   "execution_count": 7,
   "metadata": {},
   "outputs": [
    {
     "data": {
      "text/html": [
       "<div>\n",
       "<style scoped>\n",
       "    .dataframe tbody tr th:only-of-type {\n",
       "        vertical-align: middle;\n",
       "    }\n",
       "\n",
       "    .dataframe tbody tr th {\n",
       "        vertical-align: top;\n",
       "    }\n",
       "\n",
       "    .dataframe thead th {\n",
       "        text-align: right;\n",
       "    }\n",
       "</style>\n",
       "<table border=\"1\" class=\"dataframe\">\n",
       "  <thead>\n",
       "    <tr style=\"text-align: right;\">\n",
       "      <th></th>\n",
       "      <th>id</th>\n",
       "      <th>mag</th>\n",
       "      <th>place</th>\n",
       "      <th>time</th>\n",
       "      <th>updated</th>\n",
       "      <th>felt</th>\n",
       "      <th>cdi</th>\n",
       "      <th>mmi</th>\n",
       "      <th>status</th>\n",
       "      <th>tsunami</th>\n",
       "      <th>...</th>\n",
       "      <th>sources</th>\n",
       "      <th>types</th>\n",
       "      <th>nst</th>\n",
       "      <th>dmin</th>\n",
       "      <th>rms</th>\n",
       "      <th>gap</th>\n",
       "      <th>magType</th>\n",
       "      <th>type</th>\n",
       "      <th>title</th>\n",
       "      <th>geometry</th>\n",
       "    </tr>\n",
       "  </thead>\n",
       "  <tbody>\n",
       "    <tr>\n",
       "      <th>0</th>\n",
       "      <td>nc71338046</td>\n",
       "      <td>1.02</td>\n",
       "      <td>8 km W of Cobb, California</td>\n",
       "      <td>1263081589050</td>\n",
       "      <td>1485021181190</td>\n",
       "      <td>NaN</td>\n",
       "      <td>NaN</td>\n",
       "      <td>NaN</td>\n",
       "      <td>reviewed</td>\n",
       "      <td>0</td>\n",
       "      <td>...</td>\n",
       "      <td>,nc,</td>\n",
       "      <td>,focal-mechanism,nearby-cities,origin,phase-data,</td>\n",
       "      <td>30.0</td>\n",
       "      <td>0.009910</td>\n",
       "      <td>0.0800</td>\n",
       "      <td>47.00</td>\n",
       "      <td>md</td>\n",
       "      <td>earthquake</td>\n",
       "      <td>M 1.0 - 8 km W of Cobb, California</td>\n",
       "      <td>POINT Z (-122.8203333 38.8163333 1.929)</td>\n",
       "    </tr>\n",
       "    <tr>\n",
       "      <th>1</th>\n",
       "      <td>nn00301678</td>\n",
       "      <td>1.30</td>\n",
       "      <td>64 km ESE of Goldfield, Nevada</td>\n",
       "      <td>1263081050837</td>\n",
       "      <td>1528923095942</td>\n",
       "      <td>NaN</td>\n",
       "      <td>NaN</td>\n",
       "      <td>NaN</td>\n",
       "      <td>reviewed</td>\n",
       "      <td>0</td>\n",
       "      <td>...</td>\n",
       "      <td>,nn,</td>\n",
       "      <td>,origin,phase-data,</td>\n",
       "      <td>20.0</td>\n",
       "      <td>0.223000</td>\n",
       "      <td>0.1138</td>\n",
       "      <td>114.57</td>\n",
       "      <td>ml</td>\n",
       "      <td>earthquake</td>\n",
       "      <td>M 1.3 - 64 km ESE of Goldfield, Nevada</td>\n",
       "      <td>POINT Z (-116.5613 37.4935 11.7)</td>\n",
       "    </tr>\n",
       "    <tr>\n",
       "      <th>2</th>\n",
       "      <td>nc71338036</td>\n",
       "      <td>0.57</td>\n",
       "      <td>6 km WNW of Cobb, California</td>\n",
       "      <td>1263080589630</td>\n",
       "      <td>1485021171979</td>\n",
       "      <td>NaN</td>\n",
       "      <td>NaN</td>\n",
       "      <td>NaN</td>\n",
       "      <td>automatic</td>\n",
       "      <td>0</td>\n",
       "      <td>...</td>\n",
       "      <td>,nc,</td>\n",
       "      <td>,nearby-cities,origin,phase-data,</td>\n",
       "      <td>8.0</td>\n",
       "      <td>0.009009</td>\n",
       "      <td>0.1300</td>\n",
       "      <td>99.00</td>\n",
       "      <td>md</td>\n",
       "      <td>earthquake</td>\n",
       "      <td>M 0.6 - 6 km WNW of Cobb, California</td>\n",
       "      <td>POINT Z (-122.791832 38.847332 1.555)</td>\n",
       "    </tr>\n",
       "    <tr>\n",
       "      <th>3</th>\n",
       "      <td>nc71338031</td>\n",
       "      <td>0.46</td>\n",
       "      <td>5 km SW of Cobb, California</td>\n",
       "      <td>1263080476030</td>\n",
       "      <td>1485021167427</td>\n",
       "      <td>NaN</td>\n",
       "      <td>NaN</td>\n",
       "      <td>NaN</td>\n",
       "      <td>reviewed</td>\n",
       "      <td>0</td>\n",
       "      <td>...</td>\n",
       "      <td>,nc,</td>\n",
       "      <td>,nearby-cities,origin,phase-data,</td>\n",
       "      <td>5.0</td>\n",
       "      <td>0.013510</td>\n",
       "      <td>0.0200</td>\n",
       "      <td>138.00</td>\n",
       "      <td>md</td>\n",
       "      <td>earthquake</td>\n",
       "      <td>M 0.5 - 5 km SW of Cobb, California</td>\n",
       "      <td>POINT Z (-122.7675 38.7883333 1.196)</td>\n",
       "    </tr>\n",
       "    <tr>\n",
       "      <th>4</th>\n",
       "      <td>uu50393750</td>\n",
       "      <td>1.20</td>\n",
       "      <td>10 km SSE of Cedar City, Utah</td>\n",
       "      <td>1263080229400</td>\n",
       "      <td>1535502598580</td>\n",
       "      <td>NaN</td>\n",
       "      <td>NaN</td>\n",
       "      <td>NaN</td>\n",
       "      <td>reviewed</td>\n",
       "      <td>0</td>\n",
       "      <td>...</td>\n",
       "      <td>,uu,</td>\n",
       "      <td>,origin,phase-data,</td>\n",
       "      <td>8.0</td>\n",
       "      <td>0.139200</td>\n",
       "      <td>0.1400</td>\n",
       "      <td>76.00</td>\n",
       "      <td>md</td>\n",
       "      <td>earthquake</td>\n",
       "      <td>M 1.2 - 10 km SSE of Cedar City, Utah</td>\n",
       "      <td>POINT Z (-113.0371667 37.589 5.48)</td>\n",
       "    </tr>\n",
       "    <tr>\n",
       "      <th>...</th>\n",
       "      <td>...</td>\n",
       "      <td>...</td>\n",
       "      <td>...</td>\n",
       "      <td>...</td>\n",
       "      <td>...</td>\n",
       "      <td>...</td>\n",
       "      <td>...</td>\n",
       "      <td>...</td>\n",
       "      <td>...</td>\n",
       "      <td>...</td>\n",
       "      <td>...</td>\n",
       "      <td>...</td>\n",
       "      <td>...</td>\n",
       "      <td>...</td>\n",
       "      <td>...</td>\n",
       "      <td>...</td>\n",
       "      <td>...</td>\n",
       "      <td>...</td>\n",
       "      <td>...</td>\n",
       "      <td>...</td>\n",
       "      <td>...</td>\n",
       "    </tr>\n",
       "    <tr>\n",
       "      <th>1857129</th>\n",
       "      <td>nc73795991</td>\n",
       "      <td>1.17</td>\n",
       "      <td>7km NW of The Geysers, CA</td>\n",
       "      <td>1666224074110</td>\n",
       "      <td>1666228937100</td>\n",
       "      <td>NaN</td>\n",
       "      <td>NaN</td>\n",
       "      <td>NaN</td>\n",
       "      <td>automatic</td>\n",
       "      <td>0</td>\n",
       "      <td>...</td>\n",
       "      <td>,nc,</td>\n",
       "      <td>,nearby-cities,origin,phase-data,scitech-link,</td>\n",
       "      <td>10.0</td>\n",
       "      <td>0.013690</td>\n",
       "      <td>0.0200</td>\n",
       "      <td>87.00</td>\n",
       "      <td>md</td>\n",
       "      <td>earthquake</td>\n",
       "      <td>M 1.2 - 7km NW of The Geysers, CA</td>\n",
       "      <td>POINT Z (-122.8178329 38.8204994 0.89)</td>\n",
       "    </tr>\n",
       "    <tr>\n",
       "      <th>1857130</th>\n",
       "      <td>nc73795986</td>\n",
       "      <td>1.17</td>\n",
       "      <td>7km NW of The Geysers, CA</td>\n",
       "      <td>1666224064050</td>\n",
       "      <td>1666228215020</td>\n",
       "      <td>0.0</td>\n",
       "      <td>1.0</td>\n",
       "      <td>NaN</td>\n",
       "      <td>automatic</td>\n",
       "      <td>0</td>\n",
       "      <td>...</td>\n",
       "      <td>,nc,</td>\n",
       "      <td>,dyfi,nearby-cities,origin,phase-data,scitech-...</td>\n",
       "      <td>9.0</td>\n",
       "      <td>0.012330</td>\n",
       "      <td>0.0300</td>\n",
       "      <td>141.00</td>\n",
       "      <td>md</td>\n",
       "      <td>earthquake</td>\n",
       "      <td>M 1.2 - 7km NW of The Geysers, CA</td>\n",
       "      <td>POINT Z (-122.8160019 38.8156662 2.4)</td>\n",
       "    </tr>\n",
       "    <tr>\n",
       "      <th>1857131</th>\n",
       "      <td>nc73795961</td>\n",
       "      <td>1.48</td>\n",
       "      <td>6km WNW of The Geysers, CA</td>\n",
       "      <td>1666224025840</td>\n",
       "      <td>1666300575591</td>\n",
       "      <td>NaN</td>\n",
       "      <td>NaN</td>\n",
       "      <td>NaN</td>\n",
       "      <td>reviewed</td>\n",
       "      <td>0</td>\n",
       "      <td>...</td>\n",
       "      <td>,nc,</td>\n",
       "      <td>,nearby-cities,origin,phase-data,scitech-link,</td>\n",
       "      <td>25.0</td>\n",
       "      <td>0.010090</td>\n",
       "      <td>0.0300</td>\n",
       "      <td>61.00</td>\n",
       "      <td>md</td>\n",
       "      <td>earthquake</td>\n",
       "      <td>M 1.5 - 6km WNW of The Geysers, CA</td>\n",
       "      <td>POINT Z (-122.8163333 38.8078333 1.02)</td>\n",
       "    </tr>\n",
       "    <tr>\n",
       "      <th>1857132</th>\n",
       "      <td>ak022dgkgpx7</td>\n",
       "      <td>1.60</td>\n",
       "      <td>46 km WNW of Mosquito Lake, Alaska</td>\n",
       "      <td>1666224016002</td>\n",
       "      <td>1668211456609</td>\n",
       "      <td>NaN</td>\n",
       "      <td>NaN</td>\n",
       "      <td>NaN</td>\n",
       "      <td>reviewed</td>\n",
       "      <td>0</td>\n",
       "      <td>...</td>\n",
       "      <td>,ak,</td>\n",
       "      <td>,origin,phase-data,</td>\n",
       "      <td>NaN</td>\n",
       "      <td>NaN</td>\n",
       "      <td>0.5900</td>\n",
       "      <td>NaN</td>\n",
       "      <td>ml</td>\n",
       "      <td>earthquake</td>\n",
       "      <td>M 1.6 - 46 km WNW of Mosquito Lake, Alaska</td>\n",
       "      <td>POINT Z (-136.8637 59.6678 19.9)</td>\n",
       "    </tr>\n",
       "    <tr>\n",
       "      <th>1857133</th>\n",
       "      <td>nc71129239</td>\n",
       "      <td>2.55</td>\n",
       "      <td>7km NW of The Geysers, CA</td>\n",
       "      <td>1666224010180</td>\n",
       "      <td>1666310775563</td>\n",
       "      <td>NaN</td>\n",
       "      <td>NaN</td>\n",
       "      <td>NaN</td>\n",
       "      <td>reviewed</td>\n",
       "      <td>0</td>\n",
       "      <td>...</td>\n",
       "      <td>,nc,</td>\n",
       "      <td>,nearby-cities,origin,phase-data,scitech-link,</td>\n",
       "      <td>35.0</td>\n",
       "      <td>0.019090</td>\n",
       "      <td>0.0300</td>\n",
       "      <td>37.00</td>\n",
       "      <td>md</td>\n",
       "      <td>earthquake</td>\n",
       "      <td>M 2.6 - 7km NW of The Geysers, CA</td>\n",
       "      <td>POINT Z (-122.8098333 38.8233333 1.72)</td>\n",
       "    </tr>\n",
       "  </tbody>\n",
       "</table>\n",
       "<p>1857134 rows × 24 columns</p>\n",
       "</div>"
      ],
      "text/plain": [
       "                   id   mag                               place  \\\n",
       "0          nc71338046  1.02          8 km W of Cobb, California   \n",
       "1          nn00301678  1.30      64 km ESE of Goldfield, Nevada   \n",
       "2          nc71338036  0.57        6 km WNW of Cobb, California   \n",
       "3          nc71338031  0.46         5 km SW of Cobb, California   \n",
       "4          uu50393750  1.20       10 km SSE of Cedar City, Utah   \n",
       "...               ...   ...                                 ...   \n",
       "1857129    nc73795991  1.17           7km NW of The Geysers, CA   \n",
       "1857130    nc73795986  1.17           7km NW of The Geysers, CA   \n",
       "1857131    nc73795961  1.48          6km WNW of The Geysers, CA   \n",
       "1857132  ak022dgkgpx7  1.60  46 km WNW of Mosquito Lake, Alaska   \n",
       "1857133    nc71129239  2.55           7km NW of The Geysers, CA   \n",
       "\n",
       "                  time        updated  felt  cdi  mmi     status  tsunami  \\\n",
       "0        1263081589050  1485021181190   NaN  NaN  NaN   reviewed        0   \n",
       "1        1263081050837  1528923095942   NaN  NaN  NaN   reviewed        0   \n",
       "2        1263080589630  1485021171979   NaN  NaN  NaN  automatic        0   \n",
       "3        1263080476030  1485021167427   NaN  NaN  NaN   reviewed        0   \n",
       "4        1263080229400  1535502598580   NaN  NaN  NaN   reviewed        0   \n",
       "...                ...            ...   ...  ...  ...        ...      ...   \n",
       "1857129  1666224074110  1666228937100   NaN  NaN  NaN  automatic        0   \n",
       "1857130  1666224064050  1666228215020   0.0  1.0  NaN  automatic        0   \n",
       "1857131  1666224025840  1666300575591   NaN  NaN  NaN   reviewed        0   \n",
       "1857132  1666224016002  1668211456609   NaN  NaN  NaN   reviewed        0   \n",
       "1857133  1666224010180  1666310775563   NaN  NaN  NaN   reviewed        0   \n",
       "\n",
       "         ...  sources                                              types  \\\n",
       "0        ...     ,nc,  ,focal-mechanism,nearby-cities,origin,phase-data,   \n",
       "1        ...     ,nn,                                ,origin,phase-data,   \n",
       "2        ...     ,nc,                  ,nearby-cities,origin,phase-data,   \n",
       "3        ...     ,nc,                  ,nearby-cities,origin,phase-data,   \n",
       "4        ...     ,uu,                                ,origin,phase-data,   \n",
       "...      ...      ...                                                ...   \n",
       "1857129  ...     ,nc,     ,nearby-cities,origin,phase-data,scitech-link,   \n",
       "1857130  ...     ,nc,  ,dyfi,nearby-cities,origin,phase-data,scitech-...   \n",
       "1857131  ...     ,nc,     ,nearby-cities,origin,phase-data,scitech-link,   \n",
       "1857132  ...     ,ak,                                ,origin,phase-data,   \n",
       "1857133  ...     ,nc,     ,nearby-cities,origin,phase-data,scitech-link,   \n",
       "\n",
       "          nst      dmin     rms     gap  magType        type  \\\n",
       "0        30.0  0.009910  0.0800   47.00       md  earthquake   \n",
       "1        20.0  0.223000  0.1138  114.57       ml  earthquake   \n",
       "2         8.0  0.009009  0.1300   99.00       md  earthquake   \n",
       "3         5.0  0.013510  0.0200  138.00       md  earthquake   \n",
       "4         8.0  0.139200  0.1400   76.00       md  earthquake   \n",
       "...       ...       ...     ...     ...      ...         ...   \n",
       "1857129  10.0  0.013690  0.0200   87.00       md  earthquake   \n",
       "1857130   9.0  0.012330  0.0300  141.00       md  earthquake   \n",
       "1857131  25.0  0.010090  0.0300   61.00       md  earthquake   \n",
       "1857132   NaN       NaN  0.5900     NaN       ml  earthquake   \n",
       "1857133  35.0  0.019090  0.0300   37.00       md  earthquake   \n",
       "\n",
       "                                              title  \\\n",
       "0                M 1.0 - 8 km W of Cobb, California   \n",
       "1            M 1.3 - 64 km ESE of Goldfield, Nevada   \n",
       "2              M 0.6 - 6 km WNW of Cobb, California   \n",
       "3               M 0.5 - 5 km SW of Cobb, California   \n",
       "4             M 1.2 - 10 km SSE of Cedar City, Utah   \n",
       "...                                             ...   \n",
       "1857129           M 1.2 - 7km NW of The Geysers, CA   \n",
       "1857130           M 1.2 - 7km NW of The Geysers, CA   \n",
       "1857131          M 1.5 - 6km WNW of The Geysers, CA   \n",
       "1857132  M 1.6 - 46 km WNW of Mosquito Lake, Alaska   \n",
       "1857133           M 2.6 - 7km NW of The Geysers, CA   \n",
       "\n",
       "                                        geometry  \n",
       "0        POINT Z (-122.8203333 38.8163333 1.929)  \n",
       "1               POINT Z (-116.5613 37.4935 11.7)  \n",
       "2          POINT Z (-122.791832 38.847332 1.555)  \n",
       "3           POINT Z (-122.7675 38.7883333 1.196)  \n",
       "4             POINT Z (-113.0371667 37.589 5.48)  \n",
       "...                                          ...  \n",
       "1857129   POINT Z (-122.8178329 38.8204994 0.89)  \n",
       "1857130    POINT Z (-122.8160019 38.8156662 2.4)  \n",
       "1857131   POINT Z (-122.8163333 38.8078333 1.02)  \n",
       "1857132         POINT Z (-136.8637 59.6678 19.9)  \n",
       "1857133   POINT Z (-122.8098333 38.8233333 1.72)  \n",
       "\n",
       "[1857134 rows x 24 columns]"
      ]
     },
     "execution_count": 7,
     "metadata": {},
     "output_type": "execute_result"
    }
   ],
   "source": [
    "delete_col(data)"
   ]
  },
  {
   "cell_type": "code",
   "execution_count": null,
   "metadata": {},
   "outputs": [],
   "source": [
    "def Nmag(mag):\n",
    "    for i in mag:\n",
    "        if mag < (-1.5):\n",
    "            mag\n",
    "        else:\n",
    "            mag = -1.5 "
   ]
  },
  {
   "cell_type": "code",
   "execution_count": 17,
   "metadata": {},
   "outputs": [],
   "source": [
    "def NormMag(data):\n",
    "    data.loc[data['mag'] < (-1.5), 'mag'] = (-1.5)\n",
    "    data['mag'] = data['mag'].fillna(1.32)  #(datac['mag'].median())\n",
    "    return data"
   ]
  },
  {
   "cell_type": "code",
   "execution_count": 56,
   "metadata": {},
   "outputs": [],
   "source": [
    "#esto no funciono. Con df todo bien\n",
    "def NormMagC(x):\n",
    "    x = x.fillna(1.32)  #(datac['mag'].median())\n",
    "    if x < (-1.5):\n",
    "        x = (-1.5)\n",
    "    else: x\n",
    "    return x"
   ]
  },
  {
   "cell_type": "code",
   "execution_count": null,
   "metadata": {},
   "outputs": [],
   "source": [
    "data.loc[data['mag'] < (-1.5), 'mag'] = (-1.5)"
   ]
  },
  {
   "cell_type": "code",
   "execution_count": 9,
   "metadata": {},
   "outputs": [
    {
     "data": {
      "text/plain": [
       "1.32"
      ]
     },
     "execution_count": 9,
     "metadata": {},
     "output_type": "execute_result"
    }
   ],
   "source": [
    "data['mag'].median()"
   ]
  },
  {
   "cell_type": "code",
   "execution_count": 10,
   "metadata": {},
   "outputs": [],
   "source": [
    "#median = 1.33 \n",
    "# we use harcode value as this will be introduced for new columns\n",
    "data['mag'] = data['mag'].fillna(1.32)  #(datac['mag'].median())\n"
   ]
  },
  {
   "cell_type": "code",
   "execution_count": 64,
   "metadata": {},
   "outputs": [
    {
     "data": {
      "text/plain": [
       "count    1.857134e+06\n",
       "mean     1.106173e+00\n",
       "std      4.937185e-01\n",
       "min     -1.500000e+00\n",
       "25%      8.000000e-01\n",
       "50%      1.330000e+00\n",
       "75%      1.500000e+00\n",
       "max      1.500000e+00\n",
       "Name: mag, dtype: float64"
      ]
     },
     "execution_count": 64,
     "metadata": {},
     "output_type": "execute_result"
    }
   ],
   "source": [
    "#just checking replacment\n",
    "data['mag'].describe()"
   ]
  },
  {
   "cell_type": "code",
   "execution_count": 124,
   "metadata": {},
   "outputs": [],
   "source": [
    "datac = data.copy()"
   ]
  },
  {
   "cell_type": "code",
   "execution_count": 59,
   "metadata": {},
   "outputs": [],
   "source": [
    "def NormStatus(x):\n",
    "    x = x.str.lower\n",
    "    #df['status'] = df['status'].apply(str.lower)\n",
    "    return x"
   ]
  },
  {
   "cell_type": "code",
   "execution_count": 60,
   "metadata": {},
   "outputs": [
    {
     "data": {
      "text/plain": [
       "<bound method StringMethods.lower of <pandas.core.strings.accessor.StringMethods object at 0x171abeac0>>"
      ]
     },
     "execution_count": 60,
     "metadata": {},
     "output_type": "execute_result"
    }
   ],
   "source": [
    "#apply funtion\n",
    "NormStatus(data['status'])"
   ]
  },
  {
   "cell_type": "code",
   "execution_count": 61,
   "metadata": {},
   "outputs": [
    {
     "data": {
      "text/plain": [
       "array(['reviewed', 'automatic', 'manual'], dtype=object)"
      ]
     },
     "execution_count": 61,
     "metadata": {},
     "output_type": "execute_result"
    }
   ],
   "source": [
    "#check changes\n",
    "data['status'].unique()"
   ]
  },
  {
   "cell_type": "code",
   "execution_count": 76,
   "metadata": {},
   "outputs": [],
   "source": [
    "#we will fill with 1 as we can assume that at least one station would have recorded\n",
    "def NormNst(x):\n",
    "    x = x.fillna(1)\n",
    "    return x"
   ]
  },
  {
   "cell_type": "code",
   "execution_count": 77,
   "metadata": {},
   "outputs": [
    {
     "data": {
      "text/plain": [
       "0          30.0\n",
       "1          20.0\n",
       "2           8.0\n",
       "3           5.0\n",
       "4           8.0\n",
       "           ... \n",
       "1857129    10.0\n",
       "1857130     9.0\n",
       "1857131    25.0\n",
       "1857132     1.0\n",
       "1857133    35.0\n",
       "Name: nst, Length: 1857134, dtype: float64"
      ]
     },
     "execution_count": 77,
     "metadata": {},
     "output_type": "execute_result"
    }
   ],
   "source": [
    "NormNst(data['nst'])"
   ]
  },
  {
   "cell_type": "code",
   "execution_count": 79,
   "metadata": {},
   "outputs": [
    {
     "data": {
      "text/plain": [
       "642096"
      ]
     },
     "execution_count": 79,
     "metadata": {},
     "output_type": "execute_result"
    }
   ],
   "source": [
    "#chequear por que no reemplaza\n",
    "data['nst'].isna().sum()"
   ]
  },
  {
   "cell_type": "code",
   "execution_count": 103,
   "metadata": {},
   "outputs": [
    {
     "data": {
      "text/plain": [
       "0.05871"
      ]
     },
     "execution_count": 103,
     "metadata": {},
     "output_type": "execute_result"
    }
   ],
   "source": [
    "datac['dmin'].median()"
   ]
  },
  {
   "cell_type": "code",
   "execution_count": 106,
   "metadata": {},
   "outputs": [
    {
     "data": {
      "text/plain": [
       "count    1.241974e+06\n",
       "mean     5.363545e-01\n",
       "std      2.105069e+00\n",
       "min      0.000000e+00\n",
       "25%      1.995000e-02\n",
       "50%      5.871000e-02\n",
       "75%      1.540000e-01\n",
       "max      1.411600e+02\n",
       "Name: dmin, dtype: float64"
      ]
     },
     "execution_count": 106,
     "metadata": {},
     "output_type": "execute_result"
    }
   ],
   "source": [
    "# We will use the last 75% as max, as we are taking in account the typical values:  https://earthquake.usgs.gov/data/comcat/\n",
    "data['dmin'].describe()"
   ]
  },
  {
   "cell_type": "code",
   "execution_count": 108,
   "metadata": {},
   "outputs": [],
   "source": [
    "def NormDmi(df):\n",
    "    df.loc[df['dmin'] > (0.154), 'dmin'] = (0.154)\n",
    "    df = df['dmin'].fillna(0.0587)\n",
    "    return df"
   ]
  },
  {
   "cell_type": "code",
   "execution_count": 109,
   "metadata": {},
   "outputs": [
    {
     "data": {
      "text/plain": [
       "0          0.009910\n",
       "1          0.155000\n",
       "2          0.009009\n",
       "3          0.013510\n",
       "4          0.139200\n",
       "             ...   \n",
       "1857129    0.013690\n",
       "1857130    0.012330\n",
       "1857131    0.010090\n",
       "1857132    0.058700\n",
       "1857133    0.019090\n",
       "Name: dmin, Length: 1857134, dtype: float64"
      ]
     },
     "execution_count": 109,
     "metadata": {},
     "output_type": "execute_result"
    }
   ],
   "source": [
    "NormDmi(data)"
   ]
  },
  {
   "cell_type": "code",
   "execution_count": 90,
   "metadata": {},
   "outputs": [
    {
     "data": {
      "text/plain": [
       "0          0.009910\n",
       "1          0.223000\n",
       "2          0.009009\n",
       "3          0.013510\n",
       "4          0.139200\n",
       "             ...   \n",
       "1857129    0.013690\n",
       "1857130    0.012330\n",
       "1857131    0.010090\n",
       "1857132    7.100000\n",
       "1857133    0.019090\n",
       "Name: dmin, Length: 1857134, dtype: float64"
      ]
     },
     "execution_count": 90,
     "metadata": {},
     "output_type": "execute_result"
    }
   ],
   "source": [
    "NormDmi(datac['dmin'])"
   ]
  },
  {
   "cell_type": "code",
   "execution_count": 110,
   "metadata": {},
   "outputs": [
    {
     "data": {
      "text/plain": [
       "count    1.835863e+06\n",
       "mean     3.071704e-01\n",
       "std      3.023745e-01\n",
       "min      0.000000e+00\n",
       "25%      9.000000e-02\n",
       "50%      1.800000e-01\n",
       "75%      4.800000e-01\n",
       "max      4.624000e+01\n",
       "Name: rms, dtype: float64"
      ]
     },
     "execution_count": 110,
     "metadata": {},
     "output_type": "execute_result"
    }
   ],
   "source": [
    "data['rms'].describe()"
   ]
  },
  {
   "cell_type": "code",
   "execution_count": 111,
   "metadata": {},
   "outputs": [],
   "source": [
    "# we use the max typical value for outliers: https://earthquake.usgs.gov/data/comcat/\n",
    "def NormRms(df):\n",
    "    df.loc[df['rms'] > (1.39), 'rms'] = (1.39)\n",
    "    df = df['rms'].fillna(0.18)\n",
    "    return df"
   ]
  },
  {
   "cell_type": "code",
   "execution_count": 115,
   "metadata": {},
   "outputs": [
    {
     "data": {
      "text/plain": [
       "0          0.0800\n",
       "1          0.1138\n",
       "2          0.1300\n",
       "3          0.0200\n",
       "4          0.1400\n",
       "            ...  \n",
       "1857129    0.0200\n",
       "1857130    0.0300\n",
       "1857131    0.0300\n",
       "1857132    0.5900\n",
       "1857133    0.0300\n",
       "Name: rms, Length: 1857134, dtype: float64"
      ]
     },
     "execution_count": 115,
     "metadata": {},
     "output_type": "execute_result"
    }
   ],
   "source": [
    "NormRms(data)"
   ]
  },
  {
   "cell_type": "code",
   "execution_count": 114,
   "metadata": {},
   "outputs": [
    {
     "data": {
      "text/plain": [
       "count    1.835863e+06\n",
       "mean     3.071704e-01\n",
       "std      3.023745e-01\n",
       "min      0.000000e+00\n",
       "25%      9.000000e-02\n",
       "50%      1.800000e-01\n",
       "75%      4.800000e-01\n",
       "max      4.624000e+01\n",
       "Name: rms, dtype: float64"
      ]
     },
     "execution_count": 114,
     "metadata": {},
     "output_type": "execute_result"
    }
   ],
   "source": [
    "data['rms'].describe()"
   ]
  },
  {
   "cell_type": "code",
   "execution_count": 117,
   "metadata": {},
   "outputs": [],
   "source": [
    "def NormGap(df):\n",
    "    df.loc[df['gap'] > (180), 'gap'] = (180)\n",
    "    df = df['gap'].fillna(110)\n",
    "    return df"
   ]
  },
  {
   "cell_type": "code",
   "execution_count": 118,
   "metadata": {},
   "outputs": [
    {
     "data": {
      "text/plain": [
       "0           47.00\n",
       "1          114.57\n",
       "2           99.00\n",
       "3          138.00\n",
       "4           76.00\n",
       "            ...  \n",
       "1857129     87.00\n",
       "1857130    141.00\n",
       "1857131     61.00\n",
       "1857132    110.00\n",
       "1857133     37.00\n",
       "Name: gap, Length: 1857134, dtype: float64"
      ]
     },
     "execution_count": 118,
     "metadata": {},
     "output_type": "execute_result"
    }
   ],
   "source": [
    "NormGap(data)"
   ]
  },
  {
   "cell_type": "code",
   "execution_count": 119,
   "metadata": {},
   "outputs": [
    {
     "data": {
      "text/plain": [
       "count    1.384726e+06\n",
       "mean     1.130270e+02\n",
       "std      4.795510e+01\n",
       "min      7.000000e+00\n",
       "25%      7.300000e+01\n",
       "50%      1.080000e+02\n",
       "75%      1.610000e+02\n",
       "max      1.800000e+02\n",
       "Name: gap, dtype: float64"
      ]
     },
     "execution_count": 119,
     "metadata": {},
     "output_type": "execute_result"
    }
   ],
   "source": [
    "data['gap'].describe()"
   ]
  },
  {
   "cell_type": "code",
   "execution_count": 125,
   "metadata": {},
   "outputs": [
    {
     "data": {
      "text/html": [
       "<div>\n",
       "<style scoped>\n",
       "    .dataframe tbody tr th:only-of-type {\n",
       "        vertical-align: middle;\n",
       "    }\n",
       "\n",
       "    .dataframe tbody tr th {\n",
       "        vertical-align: top;\n",
       "    }\n",
       "\n",
       "    .dataframe thead th {\n",
       "        text-align: right;\n",
       "    }\n",
       "</style>\n",
       "<table border=\"1\" class=\"dataframe\">\n",
       "  <thead>\n",
       "    <tr style=\"text-align: right;\">\n",
       "      <th></th>\n",
       "      <th>id</th>\n",
       "      <th>mag</th>\n",
       "      <th>place</th>\n",
       "      <th>time</th>\n",
       "      <th>updated</th>\n",
       "      <th>tz</th>\n",
       "      <th>url</th>\n",
       "      <th>detail</th>\n",
       "      <th>felt</th>\n",
       "      <th>cdi</th>\n",
       "      <th>...</th>\n",
       "      <th>sources</th>\n",
       "      <th>types</th>\n",
       "      <th>nst</th>\n",
       "      <th>dmin</th>\n",
       "      <th>rms</th>\n",
       "      <th>gap</th>\n",
       "      <th>magType</th>\n",
       "      <th>type</th>\n",
       "      <th>title</th>\n",
       "      <th>geometry</th>\n",
       "    </tr>\n",
       "  </thead>\n",
       "  <tbody>\n",
       "    <tr>\n",
       "      <th>0</th>\n",
       "      <td>nc71338046</td>\n",
       "      <td>1.02</td>\n",
       "      <td>8 km W of Cobb, California</td>\n",
       "      <td>1263081589050</td>\n",
       "      <td>1485021181190</td>\n",
       "      <td>NaN</td>\n",
       "      <td>https://earthquake.usgs.gov/earthquakes/eventp...</td>\n",
       "      <td>https://earthquake.usgs.gov/fdsnws/event/1/que...</td>\n",
       "      <td>NaN</td>\n",
       "      <td>NaN</td>\n",
       "      <td>...</td>\n",
       "      <td>,nc,</td>\n",
       "      <td>,focal-mechanism,nearby-cities,origin,phase-data,</td>\n",
       "      <td>30.0</td>\n",
       "      <td>0.00991</td>\n",
       "      <td>0.0800</td>\n",
       "      <td>47.00</td>\n",
       "      <td>md</td>\n",
       "      <td>earthquake</td>\n",
       "      <td>M 1.0 - 8 km W of Cobb, California</td>\n",
       "      <td>POINT Z (-122.8203333 38.8163333 1.929)</td>\n",
       "    </tr>\n",
       "    <tr>\n",
       "      <th>1</th>\n",
       "      <td>nn00301678</td>\n",
       "      <td>1.30</td>\n",
       "      <td>64 km ESE of Goldfield, Nevada</td>\n",
       "      <td>1263081050837</td>\n",
       "      <td>1528923095942</td>\n",
       "      <td>NaN</td>\n",
       "      <td>https://earthquake.usgs.gov/earthquakes/eventp...</td>\n",
       "      <td>https://earthquake.usgs.gov/fdsnws/event/1/que...</td>\n",
       "      <td>NaN</td>\n",
       "      <td>NaN</td>\n",
       "      <td>...</td>\n",
       "      <td>,nn,</td>\n",
       "      <td>,origin,phase-data,</td>\n",
       "      <td>20.0</td>\n",
       "      <td>0.22300</td>\n",
       "      <td>0.1138</td>\n",
       "      <td>114.57</td>\n",
       "      <td>ml</td>\n",
       "      <td>earthquake</td>\n",
       "      <td>M 1.3 - 64 km ESE of Goldfield, Nevada</td>\n",
       "      <td>POINT Z (-116.5613 37.4935 11.7)</td>\n",
       "    </tr>\n",
       "  </tbody>\n",
       "</table>\n",
       "<p>2 rows × 28 columns</p>\n",
       "</div>"
      ],
      "text/plain": [
       "           id   mag                           place           time  \\\n",
       "0  nc71338046  1.02      8 km W of Cobb, California  1263081589050   \n",
       "1  nn00301678  1.30  64 km ESE of Goldfield, Nevada  1263081050837   \n",
       "\n",
       "         updated  tz                                                url  \\\n",
       "0  1485021181190 NaN  https://earthquake.usgs.gov/earthquakes/eventp...   \n",
       "1  1528923095942 NaN  https://earthquake.usgs.gov/earthquakes/eventp...   \n",
       "\n",
       "                                              detail  felt  cdi  ...  sources  \\\n",
       "0  https://earthquake.usgs.gov/fdsnws/event/1/que...   NaN  NaN  ...     ,nc,   \n",
       "1  https://earthquake.usgs.gov/fdsnws/event/1/que...   NaN  NaN  ...     ,nn,   \n",
       "\n",
       "                                               types   nst     dmin     rms  \\\n",
       "0  ,focal-mechanism,nearby-cities,origin,phase-data,  30.0  0.00991  0.0800   \n",
       "1                                ,origin,phase-data,  20.0  0.22300  0.1138   \n",
       "\n",
       "      gap magType        type                                   title  \\\n",
       "0   47.00      md  earthquake      M 1.0 - 8 km W of Cobb, California   \n",
       "1  114.57      ml  earthquake  M 1.3 - 64 km ESE of Goldfield, Nevada   \n",
       "\n",
       "                                  geometry  \n",
       "0  POINT Z (-122.8203333 38.8163333 1.929)  \n",
       "1         POINT Z (-116.5613 37.4935 11.7)  \n",
       "\n",
       "[2 rows x 28 columns]"
      ]
     },
     "execution_count": 125,
     "metadata": {},
     "output_type": "execute_result"
    }
   ],
   "source": [
    "datac.head(2)"
   ]
  },
  {
   "cell_type": "code",
   "execution_count": 127,
   "metadata": {},
   "outputs": [],
   "source": [
    "def NormDate(x):\n",
    "    x = pd.to_datetime(x, unit='ms')\n",
    "    #df['status'] = df['status'].apply(str.lower)\n",
    "    return x"
   ]
  },
  {
   "cell_type": "code",
   "execution_count": 121,
   "metadata": {},
   "outputs": [],
   "source": [
    "datac['time'] = pd.to_datetime(datac['time'], unit='ms')"
   ]
  },
  {
   "cell_type": "code",
   "execution_count": 128,
   "metadata": {},
   "outputs": [
    {
     "data": {
      "text/plain": [
       "0         2010-01-09 23:59:49.050\n",
       "1         2010-01-09 23:50:50.837\n",
       "2         2010-01-09 23:43:09.630\n",
       "3         2010-01-09 23:41:16.030\n",
       "4         2010-01-09 23:37:09.400\n",
       "                    ...          \n",
       "1857129   2022-10-20 00:01:14.110\n",
       "1857130   2022-10-20 00:01:04.050\n",
       "1857131   2022-10-20 00:00:25.840\n",
       "1857132   2022-10-20 00:00:16.002\n",
       "1857133   2022-10-20 00:00:10.180\n",
       "Name: time, Length: 1857134, dtype: datetime64[ns]"
      ]
     },
     "execution_count": 128,
     "metadata": {},
     "output_type": "execute_result"
    }
   ],
   "source": [
    "NormDate(datac['time'])"
   ]
  },
  {
   "cell_type": "code",
   "execution_count": null,
   "metadata": {},
   "outputs": [],
   "source": [
    "#converted_df = pd.to_datetime(datac['time'], unit='s')"
   ]
  },
  {
   "cell_type": "code",
   "execution_count": 116,
   "metadata": {},
   "outputs": [
    {
     "data": {
      "text/plain": [
       "earthquake                    1813858\n",
       "quarry blast                    14154\n",
       "explosion                       12614\n",
       "ice quake                       12598\n",
       "mining explosion                 2104\n",
       "other event                      1416\n",
       "chemical explosion                149\n",
       "volcanic eruption                  63\n",
       "rock burst                         56\n",
       "sonic boom                         32\n",
       "mine collapse                      18\n",
       "landslide                          16\n",
       "quarry                             15\n",
       "not reported                       12\n",
       "experimental explosion              9\n",
       "building collapse                   5\n",
       "nuclear explosion                   4\n",
       "acoustic noise                      2\n",
       "sonicboom                           2\n",
       "Ice Quake                           2\n",
       "rockslide                           1\n",
       "collapse                            1\n",
       "meteorite                           1\n",
       "induced or triggered event          1\n",
       "accidental explosion                1\n",
       "Name: type, dtype: int64"
      ]
     },
     "execution_count": 116,
     "metadata": {},
     "output_type": "execute_result"
    }
   ],
   "source": [
    "data['type'].value_counts()"
   ]
  },
  {
   "cell_type": "code",
   "execution_count": null,
   "metadata": {},
   "outputs": [],
   "source": []
  }
 ],
 "metadata": {
  "interpreter": {
   "hash": "aee8b7b246df8f9039afb4144a1f6fd8d2ca17a180786b69acc140d282b71a49"
  },
  "kernelspec": {
   "display_name": "Python 3.9.13 64-bit",
   "language": "python",
   "name": "python3"
  },
  "language_info": {
   "codemirror_mode": {
    "name": "ipython",
    "version": 3
   },
   "file_extension": ".py",
   "mimetype": "text/x-python",
   "name": "python",
   "nbconvert_exporter": "python",
   "pygments_lexer": "ipython3",
   "version": "3.9.13"
  },
  "orig_nbformat": 4
 },
 "nbformat": 4,
 "nbformat_minor": 2
}

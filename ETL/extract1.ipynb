{
 "cells": [
  {
   "cell_type": "code",
   "execution_count": 13,
   "metadata": {},
   "outputs": [],
   "source": [
    "import geopandas as gpd \n",
    "import sqlalchemy as db\n",
    "import psycopg2\n",
    "from dotenv import load_dotenv\n",
    "import datetime\n",
    "import os"
   ]
  },
  {
   "cell_type": "code",
   "execution_count": 9,
   "metadata": {},
   "outputs": [],
   "source": [
    "#Declare globar variable - credentials in .env to make it secure\n",
    "load_dotenv()\n",
    "\n",
    "database_username= os.getenv('DATABASE_USERNAME')\n",
    "database_password= os.getenv('DATABASE_PASSWORD')\n",
    "database_ip= os.getenv('DATABASE_IP')\n",
    "database_name=os.getenv('DATABASE_NAME')"
   ]
  },
  {
   "cell_type": "code",
   "execution_count": 11,
   "metadata": {},
   "outputs": [],
   "source": [
    "#only conecction and cursor - for trial\n",
    "database_conection=db.create_engine(f\"postgresql://{database_username}:{database_password}@{database_ip}/{database_name}\")\n",
    "connection = database_conection.raw_connection()\n",
    "cursor = connection.cursor()\n",
    "metadata=db.MetaData()\n",
    "\n",
    "#earthquake.to_sql('earthquake', database_conection, index=False, if_exists='replace')\n"
   ]
  },
  {
   "cell_type": "code",
   "execution_count": 12,
   "metadata": {},
   "outputs": [
    {
     "name": "stdout",
     "output_type": "stream",
     "text": [
      "[(datetime.datetime(2022, 10, 31, 23, 58, 35, 568000),)]\n"
     ]
    }
   ],
   "source": [
    "sql_query = \"\"\"\n",
    "SELECT time FROM public.earthquake\n",
    "ORDER BY time DESC\n",
    "LIMIT 1;\n",
    "\"\"\"\n",
    "\n",
    "#cursor.execute(sql_query)\n",
    "res = database_conection.execute(sql_query).fetchall()\n",
    "#connection.commit()\n",
    "connection.close()\n",
    "\n",
    "\n"
   ]
  },
  {
   "cell_type": "code",
   "execution_count": 28,
   "metadata": {},
   "outputs": [],
   "source": [
    "now = res[0][0]\n",
    "t = str(now.year)+'-'+str(now.month)+'-'+str(now.day)+'T'+str(now.hour)+':'+str(now.minute)+':'+str(now.second)"
   ]
  },
  {
   "cell_type": "code",
   "execution_count": 30,
   "metadata": {},
   "outputs": [],
   "source": [
    "query = 'https://earthquake.usgs.gov/fdsnws/event/1/query?format=geojson&starttime='+t\n",
    "\n",
    "gdf = gpd.read_file(query)"
   ]
  },
  {
   "cell_type": "code",
   "execution_count": 33,
   "metadata": {},
   "outputs": [],
   "source": [
    "gdf.to_csv('extracted_API.csv', index=False)"
   ]
  }
 ],
 "metadata": {
  "kernelspec": {
   "display_name": "Python 3.10.6 64-bit",
   "language": "python",
   "name": "python3"
  },
  "language_info": {
   "codemirror_mode": {
    "name": "ipython",
    "version": 3
   },
   "file_extension": ".py",
   "mimetype": "text/x-python",
   "name": "python",
   "nbconvert_exporter": "python",
   "pygments_lexer": "ipython3",
   "version": "3.10.6"
  },
  "orig_nbformat": 4,
  "vscode": {
   "interpreter": {
    "hash": "23dc6115c685ef902bd6c2b31d4ebe483dd4987a646bfcdbb0e0f7bcb4f7e7e8"
   }
  }
 },
 "nbformat": 4,
 "nbformat_minor": 2
}

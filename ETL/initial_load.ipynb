{
 "cells": [
  {
   "cell_type": "code",
   "execution_count": 8,
   "metadata": {},
   "outputs": [],
   "source": [
    "import numpy as np \n",
    "import pandas as pd \n",
    "import sqlalchemy as db\n",
    "import psycopg2\n",
    "from dotenv import load_dotenv\n",
    "import os"
   ]
  },
  {
   "cell_type": "code",
   "execution_count": 14,
   "metadata": {},
   "outputs": [],
   "source": [
    "earthquake_weather = pd.read_csv('../additional datasets/terremotos.csv')"
   ]
  },
  {
   "cell_type": "code",
   "execution_count": 15,
   "metadata": {},
   "outputs": [],
   "source": [
    "volcano = pd.read_csv('../additional datasets/volcanes.csv')"
   ]
  },
  {
   "cell_type": "code",
   "execution_count": 16,
   "metadata": {},
   "outputs": [],
   "source": [
    "tsunami = pd.read_csv('../additional datasets/tsunamis.csv')"
   ]
  },
  {
   "cell_type": "code",
   "execution_count": 3,
   "metadata": {},
   "outputs": [],
   "source": [
    "earthquake = pd.read_parquet('../USGS_transformed2.parquet', engine='pyarrow')"
   ]
  },
  {
   "cell_type": "code",
   "execution_count": 14,
   "metadata": {},
   "outputs": [],
   "source": [
    "poblacion = pd.read_excel('../additional datasets/poblacion_chile.xlsx')"
   ]
  },
  {
   "cell_type": "code",
   "execution_count": 17,
   "metadata": {},
   "outputs": [],
   "source": [
    "#Declare globar variable - credentials in .env to make it secure\n",
    "load_dotenv()\n",
    "\n",
    "database_username= os.getenv('DATABASE_USERNAME')\n",
    "database_password= os.getenv('DATABASE_PASSWORD')\n",
    "database_ip= os.getenv('DATABASE_IP')\n",
    "database_name=os.getenv('DATABASE_NAME')"
   ]
  },
  {
   "cell_type": "code",
   "execution_count": 10,
   "metadata": {},
   "outputs": [],
   "source": [
    "poblacion = poblacion.reset_index(level=0)\n",
    "poblacion['id'] = poblacion['index']"
   ]
  },
  {
   "cell_type": "code",
   "execution_count": 13,
   "metadata": {},
   "outputs": [
    {
     "data": {
      "text/html": [
       "<div>\n",
       "<style scoped>\n",
       "    .dataframe tbody tr th:only-of-type {\n",
       "        vertical-align: middle;\n",
       "    }\n",
       "\n",
       "    .dataframe tbody tr th {\n",
       "        vertical-align: top;\n",
       "    }\n",
       "\n",
       "    .dataframe thead th {\n",
       "        text-align: right;\n",
       "    }\n",
       "</style>\n",
       "<table border=\"1\" class=\"dataframe\">\n",
       "  <thead>\n",
       "    <tr style=\"text-align: right;\">\n",
       "      <th></th>\n",
       "      <th>index</th>\n",
       "      <th>Nombre</th>\n",
       "      <th>Provincia</th>\n",
       "      <th>Región</th>\n",
       "      <th>Superficie_km2</th>\n",
       "      <th>Poblacion</th>\n",
       "      <th>Densidad_hab_km2</th>\n",
       "      <th>IDH_2005</th>\n",
       "      <th>IDH_tipo_2005</th>\n",
       "      <th>Latitud</th>\n",
       "      <th>Longitud</th>\n",
       "      <th>id</th>\n",
       "    </tr>\n",
       "  </thead>\n",
       "  <tbody>\n",
       "    <tr>\n",
       "      <th>0</th>\n",
       "      <td>0</td>\n",
       "      <td>Arica</td>\n",
       "      <td>Arica</td>\n",
       "      <td>Arica y Parinacota</td>\n",
       "      <td>4.799,4</td>\n",
       "      <td>247.552</td>\n",
       "      <td>51.6</td>\n",
       "      <td>0.866</td>\n",
       "      <td>Alto</td>\n",
       "      <td>-18.455000</td>\n",
       "      <td>-70.290000</td>\n",
       "      <td>0</td>\n",
       "    </tr>\n",
       "    <tr>\n",
       "      <th>1</th>\n",
       "      <td>1</td>\n",
       "      <td>Camarones</td>\n",
       "      <td>Arica</td>\n",
       "      <td>Arica y Parinacota</td>\n",
       "      <td>3.927</td>\n",
       "      <td>1.233</td>\n",
       "      <td>0.31</td>\n",
       "      <td>0.791</td>\n",
       "      <td>Alto</td>\n",
       "      <td>-19.017000</td>\n",
       "      <td>-69.867000</td>\n",
       "      <td>1</td>\n",
       "    </tr>\n",
       "    <tr>\n",
       "      <th>2</th>\n",
       "      <td>2</td>\n",
       "      <td>Putre</td>\n",
       "      <td>Parinacota</td>\n",
       "      <td>Arica y Parinacota</td>\n",
       "      <td>5.902,5</td>\n",
       "      <td>2.515</td>\n",
       "      <td>0.43</td>\n",
       "      <td>0.817</td>\n",
       "      <td>Alto</td>\n",
       "      <td>-18.200000</td>\n",
       "      <td>-69.583000</td>\n",
       "      <td>2</td>\n",
       "    </tr>\n",
       "    <tr>\n",
       "      <th>3</th>\n",
       "      <td>3</td>\n",
       "      <td>Iquique</td>\n",
       "      <td>Iquique</td>\n",
       "      <td>Tarapacá</td>\n",
       "      <td>2.242,1</td>\n",
       "      <td>223.463</td>\n",
       "      <td>99,6</td>\n",
       "      <td>0.826</td>\n",
       "      <td>Alto</td>\n",
       "      <td>-20.244000</td>\n",
       "      <td>-70.139000</td>\n",
       "      <td>3</td>\n",
       "    </tr>\n",
       "    <tr>\n",
       "      <th>4</th>\n",
       "      <td>4</td>\n",
       "      <td>Alto Hospicio</td>\n",
       "      <td>Iquique</td>\n",
       "      <td>Tarapacá</td>\n",
       "      <td>572.9</td>\n",
       "      <td>129.999</td>\n",
       "      <td>226,8</td>\n",
       "      <td>0.735</td>\n",
       "      <td>Medio</td>\n",
       "      <td>-20.257000</td>\n",
       "      <td>-70.022000</td>\n",
       "      <td>4</td>\n",
       "    </tr>\n",
       "    <tr>\n",
       "      <th>...</th>\n",
       "      <td>...</td>\n",
       "      <td>...</td>\n",
       "      <td>...</td>\n",
       "      <td>...</td>\n",
       "      <td>...</td>\n",
       "      <td>...</td>\n",
       "      <td>...</td>\n",
       "      <td>...</td>\n",
       "      <td>...</td>\n",
       "      <td>...</td>\n",
       "      <td>...</td>\n",
       "      <td>...</td>\n",
       "    </tr>\n",
       "    <tr>\n",
       "      <th>340</th>\n",
       "      <td>340</td>\n",
       "      <td>Talagante</td>\n",
       "      <td>Talagante</td>\n",
       "      <td>Metropolitana de Santiago</td>\n",
       "      <td>126</td>\n",
       "      <td>81.838</td>\n",
       "      <td>649.5</td>\n",
       "      <td>0.749</td>\n",
       "      <td>Alto</td>\n",
       "      <td>-33.667000</td>\n",
       "      <td>-70.931000</td>\n",
       "      <td>340</td>\n",
       "    </tr>\n",
       "    <tr>\n",
       "      <th>341</th>\n",
       "      <td>341</td>\n",
       "      <td>El Monte</td>\n",
       "      <td>Talagante</td>\n",
       "      <td>Metropolitana de Santiago</td>\n",
       "      <td>118</td>\n",
       "      <td>40.014</td>\n",
       "      <td>339.1</td>\n",
       "      <td>0.688</td>\n",
       "      <td>Medio</td>\n",
       "      <td>-33.684000</td>\n",
       "      <td>-71.017000</td>\n",
       "      <td>341</td>\n",
       "    </tr>\n",
       "    <tr>\n",
       "      <th>342</th>\n",
       "      <td>342</td>\n",
       "      <td>Isla de Maipo</td>\n",
       "      <td>Talagante</td>\n",
       "      <td>Metropolitana de Santiago</td>\n",
       "      <td>189</td>\n",
       "      <td>40.171</td>\n",
       "      <td>212.5</td>\n",
       "      <td>0.724</td>\n",
       "      <td>Alto</td>\n",
       "      <td>-33.754000</td>\n",
       "      <td>-70.886000</td>\n",
       "      <td>342</td>\n",
       "    </tr>\n",
       "    <tr>\n",
       "      <th>343</th>\n",
       "      <td>343</td>\n",
       "      <td>Padre Hurtado</td>\n",
       "      <td>Talagante</td>\n",
       "      <td>Metropolitana de Santiago</td>\n",
       "      <td>80.8</td>\n",
       "      <td>74.188</td>\n",
       "      <td>915.9</td>\n",
       "      <td>0.728</td>\n",
       "      <td>Alto</td>\n",
       "      <td>-33.576000</td>\n",
       "      <td>-70.800000</td>\n",
       "      <td>343</td>\n",
       "    </tr>\n",
       "    <tr>\n",
       "      <th>344</th>\n",
       "      <td>344</td>\n",
       "      <td>Peñaflor</td>\n",
       "      <td>Talagante</td>\n",
       "      <td>Metropolitana de Santiago</td>\n",
       "      <td>69</td>\n",
       "      <td>101.058</td>\n",
       "      <td>1.464,6</td>\n",
       "      <td>0.753</td>\n",
       "      <td>Alto</td>\n",
       "      <td>-33.606278</td>\n",
       "      <td>-70.876522</td>\n",
       "      <td>344</td>\n",
       "    </tr>\n",
       "  </tbody>\n",
       "</table>\n",
       "<p>345 rows × 12 columns</p>\n",
       "</div>"
      ],
      "text/plain": [
       "     index         Nombre   Provincia                     Región  \\\n",
       "0        0          Arica       Arica         Arica y Parinacota   \n",
       "1        1      Camarones       Arica         Arica y Parinacota   \n",
       "2        2          Putre  Parinacota         Arica y Parinacota   \n",
       "3        3        Iquique     Iquique                   Tarapacá   \n",
       "4        4  Alto Hospicio     Iquique                   Tarapacá   \n",
       "..     ...            ...         ...                        ...   \n",
       "340    340      Talagante   Talagante  Metropolitana de Santiago   \n",
       "341    341       El Monte   Talagante  Metropolitana de Santiago   \n",
       "342    342  Isla de Maipo   Talagante  Metropolitana de Santiago   \n",
       "343    343  Padre Hurtado   Talagante  Metropolitana de Santiago   \n",
       "344    344       Peñaflor   Talagante  Metropolitana de Santiago   \n",
       "\n",
       "    Superficie_km2  Poblacion Densidad_hab_km2  IDH_2005 IDH_tipo_2005  \\\n",
       "0          4.799,4    247.552             51.6     0.866          Alto   \n",
       "1            3.927      1.233             0.31     0.791          Alto   \n",
       "2          5.902,5      2.515             0.43     0.817          Alto   \n",
       "3          2.242,1    223.463             99,6     0.826          Alto   \n",
       "4            572.9    129.999            226,8     0.735         Medio   \n",
       "..             ...        ...              ...       ...           ...   \n",
       "340            126     81.838            649.5     0.749          Alto   \n",
       "341            118     40.014            339.1     0.688         Medio   \n",
       "342            189     40.171            212.5     0.724          Alto   \n",
       "343           80.8     74.188            915.9     0.728          Alto   \n",
       "344             69    101.058          1.464,6     0.753          Alto   \n",
       "\n",
       "       Latitud   Longitud   id  \n",
       "0   -18.455000 -70.290000    0  \n",
       "1   -19.017000 -69.867000    1  \n",
       "2   -18.200000 -69.583000    2  \n",
       "3   -20.244000 -70.139000    3  \n",
       "4   -20.257000 -70.022000    4  \n",
       "..         ...        ...  ...  \n",
       "340 -33.667000 -70.931000  340  \n",
       "341 -33.684000 -71.017000  341  \n",
       "342 -33.754000 -70.886000  342  \n",
       "343 -33.576000 -70.800000  343  \n",
       "344 -33.606278 -70.876522  344  \n",
       "\n",
       "[345 rows x 12 columns]"
      ]
     },
     "execution_count": 13,
     "metadata": {},
     "output_type": "execute_result"
    }
   ],
   "source": [
    "poblacion.rename(columns = {'index':'id'}, inplace = True)"
   ]
  },
  {
   "cell_type": "code",
   "execution_count": 21,
   "metadata": {},
   "outputs": [],
   "source": [
    "def initial_load(df, table_name):\n",
    "    '''\n",
    "    This function make the initial load into a postgress database. \n",
    "    The args would be a dataframe and a table name that should be pass as string\n",
    "    '''\n",
    "    #database_conection = db.create_engine(f\"mysql+pymysql://{database_username}:{database_password}@{database_ip}/{database_name}\")\n",
    "    database_conection=db.create_engine(f\"postgresql://{database_username}:{database_password}@{database_ip}/{database_name}\")\n",
    "    connection = database_conection.raw_connection()\n",
    "    #cursor = connection.cursor()\n",
    "    metadata=db.MetaData()\n",
    "    try:\n",
    "        df.to_sql(table_name, database_conection, index=False, if_exists='replace')\n",
    "        print(\"conection open\")\n",
    "        print(f'Initial table {table_name} was created')\n",
    "    except Exception as e:\n",
    "        print(\"Has been a error with database conection\")\n",
    "        print(e)\n",
    "\n",
    "    connection.close()\n",
    "    print(\"The conection has been closed\")"
   ]
  },
  {
   "cell_type": "code",
   "execution_count": 22,
   "metadata": {},
   "outputs": [
    {
     "name": "stdout",
     "output_type": "stream",
     "text": [
      "conection open\n",
      "Initial table earthquake_weather was created\n",
      "The conection has been closed\n",
      "conection open\n",
      "Initial table volcano was created\n",
      "The conection has been closed\n",
      "conection open\n",
      "Initial table tsunami was created\n",
      "The conection has been closed\n"
     ]
    }
   ],
   "source": [
    "#load additional datasets\n",
    "initial_load(earthquake_weather, 'earthquake_weather')\n",
    "initial_load(volcano, 'volcano')\n",
    "initial_load(tsunami, 'tsunami')"
   ]
  },
  {
   "cell_type": "code",
   "execution_count": 10,
   "metadata": {},
   "outputs": [
    {
     "name": "stdout",
     "output_type": "stream",
     "text": [
      "conection open\n",
      "Initial table earthquake was created\n",
      "The conection has been closed\n"
     ]
    }
   ],
   "source": [
    "#load main dataset\n",
    "initial_load(earthquake, 'earthquake')"
   ]
  },
  {
   "cell_type": "code",
   "execution_count": 6,
   "metadata": {},
   "outputs": [
    {
     "name": "stdout",
     "output_type": "stream",
     "text": [
      "conection open\n",
      "Initial table poblacion_chile was created\n",
      "The conection has been closed\n"
     ]
    }
   ],
   "source": [
    "initial_load(poblacion, 'poblacion_chile')"
   ]
  }
 ],
 "metadata": {
  "interpreter": {
   "hash": "397704579725e15f5c7cb49fe5f0341eb7531c82d19f2c29d197e8b64ab5776b"
  },
  "kernelspec": {
   "display_name": "Python 3.9.15 64-bit",
   "language": "python",
   "name": "python3"
  },
  "language_info": {
   "codemirror_mode": {
    "name": "ipython",
    "version": 3
   },
   "file_extension": ".py",
   "mimetype": "text/x-python",
   "name": "python",
   "nbconvert_exporter": "python",
   "pygments_lexer": "ipython3",
   "version": "3.9.15"
  },
  "orig_nbformat": 4
 },
 "nbformat": 4,
 "nbformat_minor": 2
}

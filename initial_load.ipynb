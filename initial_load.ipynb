{
 "cells": [
  {
   "cell_type": "code",
   "execution_count": 2,
   "metadata": {},
   "outputs": [],
   "source": [
    "import numpy as np \n",
    "import pandas as pd \n",
    "import sqlalchemy as db\n",
    "import psycopg2\n",
    "from dotenv import load_dotenv\n",
    "import os"
   ]
  },
  {
   "cell_type": "code",
   "execution_count": 3,
   "metadata": {},
   "outputs": [],
   "source": [
    "earthquake_weather = pd.read_csv('additional datasets/terremotos.csv')"
   ]
  },
  {
   "cell_type": "code",
   "execution_count": 31,
   "metadata": {},
   "outputs": [],
   "source": [
    "volcano = pd.read_csv('additional datasets/Volcano.csv')"
   ]
  },
  {
   "cell_type": "code",
   "execution_count": 32,
   "metadata": {},
   "outputs": [],
   "source": [
    "tsunami = pd.read_csv('additional datasets/tsunami_data.csv')"
   ]
  },
  {
   "cell_type": "code",
   "execution_count": 34,
   "metadata": {},
   "outputs": [],
   "source": [
    "earthquake = pd.read_parquet('../USGS_transformed.parquet', engine='pyarrow')"
   ]
  },
  {
   "cell_type": "code",
   "execution_count": 4,
   "metadata": {},
   "outputs": [],
   "source": [
    "#Declare globar variable - credentials in .env to make it secure\n",
    "load_dotenv()\n",
    "\n",
    "database_username= os.getenv('DATABASE_USERNAME')\n",
    "database_password= os.getenv('DATABASE_PASSWORD')\n",
    "database_ip= os.getenv('DATABASE_IP')\n",
    "database_name=os.getenv('DATABASE_NAME')"
   ]
  },
  {
   "cell_type": "code",
   "execution_count": 5,
   "metadata": {},
   "outputs": [],
   "source": [
    "def initial_load(df, table_name):\n",
    "    '''\n",
    "    This function make the initial load into a postgress database. \n",
    "    The args would be a dataframe and a table name that should be pass as string\n",
    "    '''\n",
    "    #database_conection = db.create_engine(f\"mysql+pymysql://{database_username}:{database_password}@{database_ip}/{database_name}\")\n",
    "    database_conection=db.create_engine(f\"postgresql://{database_username}:{database_password}@{database_ip}/{database_name}\")\n",
    "    connection = database_conection.raw_connection()\n",
    "    #cursor = connection.cursor()\n",
    "    metadata=db.MetaData()\n",
    "    try:\n",
    "        df.to_sql(table_name, database_conection, index=False, if_exists='replace')\n",
    "        print(\"conection open\")\n",
    "        print(f'Initial table {table_name} was created')\n",
    "    except Exception as e:\n",
    "        print(\"Has been a error with database conection\")\n",
    "        print(e)\n",
    "\n",
    "    connection.close()\n",
    "    print(\"The conection has been closed\")"
   ]
  },
  {
   "cell_type": "code",
   "execution_count": 41,
   "metadata": {},
   "outputs": [
    {
     "name": "stdout",
     "output_type": "stream",
     "text": [
      "conection open\n",
      "Initial table earthquake_weather was created\n",
      "The conection has been closed\n",
      "conection open\n",
      "Initial table volcano was created\n",
      "The conection has been closed\n",
      "conection open\n",
      "Initial table tsunami was created\n",
      "The conection has been closed\n"
     ]
    }
   ],
   "source": [
    "#load additional datasets\n",
    "initial_load(earthquake_weather, 'earthquake_weather')\n",
    "initial_load(volcano, 'volcano')\n",
    "initial_load(tsunami, 'tsunami')"
   ]
  },
  {
   "cell_type": "code",
   "execution_count": 42,
   "metadata": {},
   "outputs": [
    {
     "name": "stdout",
     "output_type": "stream",
     "text": [
      "Has been a error with database conection\n",
      "The conection has been closed\n"
     ]
    }
   ],
   "source": [
    "#load main dataset\n",
    "#initial_load(earthquake, 'earthquake')"
   ]
  },
  {
   "cell_type": "code",
   "execution_count": 20,
   "metadata": {},
   "outputs": [],
   "source": [
    "#only conecction and cursor - for trial\n",
    "database_conection=db.create_engine(f\"postgresql://{database_username}:{database_password}@{database_ip}/{database_name}\")\n",
    "connection = database_conection.raw_connection()\n",
    "cursor = connection.cursor()\n",
    "metadata=db.MetaData()\n",
    "\n",
    "#earthquake.to_sql('earthquake', database_conection, index=False, if_exists='replace')\n"
   ]
  },
  {
   "cell_type": "code",
   "execution_count": null,
   "metadata": {},
   "outputs": [],
   "source": [
    "'''\n",
    "# Create the Metadata Object\n",
    "meta_data = db.MetaData(bind=database_conection)\n",
    "db.MetaData.reflect(meta_data)\n",
    " \n",
    "# Get the `students` table from the Metadata object\n",
    "EARTHQUAKE = meta_data.tables['earthquake']\n",
    " \n",
    "# SQLAlchemy Query to SELECT specific column\n",
    "query = db.select([\n",
    "    EARTHQUAKE.c.time,\n",
    "])\n",
    " \n",
    "# Fetch all the records\n",
    "result = database_conection.execute(query).fetchall()\n",
    " \n",
    "# View the records\n",
    "for record in result:\n",
    "    print(\"\\n\", record[0], record[1])\n",
    "'''"
   ]
  },
  {
   "cell_type": "code",
   "execution_count": 36,
   "metadata": {},
   "outputs": [],
   "source": [
    "sql_query = \"\"\"\n",
    "SELECT time FROM public.earthquake\n",
    "ORDER BY time DESC\n",
    "LIMIT 1;\n",
    "\"\"\"\n",
    "\n",
    "#cursor.execute(sql_query)\n",
    "res = database_conection.execute(sql_query).fetchall()\n",
    "#connection.commit()\n",
    "print(res)\n",
    "connection.close()\n"
   ]
  },
  {
   "cell_type": "code",
   "execution_count": null,
   "metadata": {},
   "outputs": [],
   "source": [
    "'''\n",
    "curs = connection.cursor()\n",
    "curs.execute(\"ROLLBACK\")\n",
    "connection.commit()\n",
    "'''"
   ]
  }
 ],
 "metadata": {
  "interpreter": {
   "hash": "397704579725e15f5c7cb49fe5f0341eb7531c82d19f2c29d197e8b64ab5776b"
  },
  "kernelspec": {
   "display_name": "Python 3.9.15 64-bit",
   "language": "python",
   "name": "python3"
  },
  "language_info": {
   "codemirror_mode": {
    "name": "ipython",
    "version": 3
   },
   "file_extension": ".py",
   "mimetype": "text/x-python",
   "name": "python",
   "nbconvert_exporter": "python",
   "pygments_lexer": "ipython3",
   "version": "3.9.15"
  },
  "orig_nbformat": 4
 },
 "nbformat": 4,
 "nbformat_minor": 2
}

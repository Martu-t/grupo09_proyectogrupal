{
 "cells": [
  {
   "cell_type": "code",
   "execution_count": 2,
   "metadata": {},
   "outputs": [],
   "source": [
    "import tweepy\n",
    "from dotenv import load_dotenv\n",
    "import os\n",
    "import sqlalchemy as db\n",
    "import psycopg2\n",
    "import datetime\n",
    "import pandas as pd\n",
    "import numpy as np"
   ]
  },
  {
   "cell_type": "code",
   "execution_count": 91,
   "metadata": {},
   "outputs": [],
   "source": [
    "load_dotenv()\n",
    "database_username= os.getenv('DATABASE_USERNAME')\n",
    "database_password= os.getenv('DATABASE_PASSWORD')\n",
    "database_ip= os.getenv('DATABASE_IP')\n",
    "database_name=os.getenv('DATABASE_NAME')"
   ]
  },
  {
   "cell_type": "code",
   "execution_count": 92,
   "metadata": {},
   "outputs": [],
   "source": [
    "def getdata():\n",
    "    database_conection=db.create_engine(f\"postgresql://{database_username}:{database_password}@{database_ip}/{database_name}\")\n",
    "    connection = database_conection.raw_connection()\n",
    "    metadata=db.MetaData()\n",
    "    cursor = connection.cursor()\n",
    "    df = pd.read_sql_query('SELECT p.nombre, t.id, t.id_terremotos, t.fecha, t.clasificacion, t.id_ciudad, t.distancia FROM public.poblacion_chile as p JOIN public.twitter as t ON t.id_ciudad = p.id WHERE fecha is null',con=database_conection)\n",
    "    connection.close()\n",
    "    df1 = df[df['clasificacion'] == 1]\n",
    "    df2 = df[df['clasificacion'] == 2]\n",
    "    df3 = df[df['clasificacion'] == 3]\n",
    "    return df1, df2, df3"
   ]
  },
  {
   "cell_type": "code",
   "execution_count": 93,
   "metadata": {},
   "outputs": [],
   "source": [
    "df1, df2, df3 =  getdata()"
   ]
  },
  {
   "cell_type": "code",
   "execution_count": 94,
   "metadata": {},
   "outputs": [
    {
     "data": {
      "text/html": [
       "<div>\n",
       "<style scoped>\n",
       "    .dataframe tbody tr th:only-of-type {\n",
       "        vertical-align: middle;\n",
       "    }\n",
       "\n",
       "    .dataframe tbody tr th {\n",
       "        vertical-align: top;\n",
       "    }\n",
       "\n",
       "    .dataframe thead th {\n",
       "        text-align: right;\n",
       "    }\n",
       "</style>\n",
       "<table border=\"1\" class=\"dataframe\">\n",
       "  <thead>\n",
       "    <tr style=\"text-align: right;\">\n",
       "      <th></th>\n",
       "      <th>nombre</th>\n",
       "      <th>id</th>\n",
       "      <th>id_terremotos</th>\n",
       "      <th>fecha</th>\n",
       "      <th>clasificacion</th>\n",
       "      <th>id_ciudad</th>\n",
       "      <th>distancia</th>\n",
       "    </tr>\n",
       "  </thead>\n",
       "  <tbody>\n",
       "    <tr>\n",
       "      <th>0</th>\n",
       "      <td>Alto del Carmen</td>\n",
       "      <td>3</td>\n",
       "      <td>us7000isxn</td>\n",
       "      <td>None</td>\n",
       "      <td>1</td>\n",
       "      <td>25</td>\n",
       "      <td>231.3</td>\n",
       "    </tr>\n",
       "  </tbody>\n",
       "</table>\n",
       "</div>"
      ],
      "text/plain": [
       "            nombre  id id_terremotos fecha  clasificacion  id_ciudad  \\\n",
       "0  Alto del Carmen   3    us7000isxn  None              1         25   \n",
       "\n",
       "   distancia  \n",
       "0      231.3  "
      ]
     },
     "execution_count": 94,
     "metadata": {},
     "output_type": "execute_result"
    }
   ],
   "source": [
    "df1"
   ]
  },
  {
   "cell_type": "code",
   "execution_count": 58,
   "metadata": {},
   "outputs": [],
   "source": [
    "#usamos dotenv para traer las claves del .env y mantener seguras las credenciales\n",
    "load_dotenv()\n",
    "\n",
    "API_KEY =os.getenv('API_KEY')\n",
    "API_SECRET =os.getenv('API_SECRET')\n",
    "ACCESS_TOKEN= os.getenv('ACCESS_TOKEN')\n",
    "ACCESS_SECRET=os.getenv('ACCESS_SECRET')\n",
    "\n",
    "auth = tweepy.OAuthHandler(API_KEY, API_SECRET)\n",
    "auth.set_access_token(ACCESS_TOKEN, ACCESS_SECRET)\n",
    " \n",
    "api = tweepy.API(auth, wait_on_rate_limit=True)\n",
    " \n",
    " \n",
    "def ObtenerUsuario(user_name):\n",
    "    return api.get_user(screen_name=user_name)\n",
    " \n",
    "def PublicarTweet(message):\n",
    "    api.update_status(status=message)\n",
    " \n",
    " \n",
    "def ObtenerTweetsDeUsuario(user_name, number_of_tweets):\n",
    "    tweets = api.user_timeline(screen_name=user_name, count=number_of_tweets)\n",
    "    return tweets\n",
    " \n",
    " \n",
    "def ObtenerSeguidoresDeUsuario(user_name, number_of_followers):\n",
    "    return tweepy.Cursor(method=api.get_followers, screen_name=user_name).items(number_of_followers)\n",
    " \n",
    " \n",
    "#def ObtenerNumeroDeSeguidoresDeUsuario(user_name):\n",
    "#    return api.get_user(screen_name=user_name).followers_count\n",
    " \n",
    " \n",
    "#def ObtenerTweetDeUsuarioPorNumero(user_name, TweetNumber):\n",
    "#    lastTweet = TweetNumber - 1\n",
    "#    return api.user_timeline(screen_name=user_name, count=TweetNumber)[lastTweet]\n",
    " \n",
    " \n",
    "#def RetwittearTweet(tweet):\n",
    "#    try:\n",
    "#        api.retweet(id=tweet.id)\n",
    "#    except:\n",
    "# \n",
    "#        print(\"Ya has retwitteado este tweet\")\n"
   ]
  },
  {
   "cell_type": "code",
   "execution_count": null,
   "metadata": {},
   "outputs": [],
   "source": [
    "alert = '\\U00002757'\n",
    "auto = '\\U0001F697'\n",
    "no = '\\U0001F6AB'\n",
    "caminar = '\\U0001F6B6'\n",
    "df2 =  getdata()[1]\n",
    "for i in range(len(df2)):\n",
    "    ciudad = (df2.iloc[i]['nombre'])\n",
    "    dist = (df2.iloc[i]['distancia'])\n",
    "    alerta_naranja = f'''{alert} Quedate donde estás. Sismo medio a {dist} km de {ciudad}.\n",
    "    El manejo de vehículos {auto} no es seguro {no} y podés tener dificultad de mantenerte en pie{caminar}. \n",
    "    Si estás en un vehiculo, detente. Agáchate, Cubrite y agarrate. Alejarse de muebles y ventanas. \n",
    "    Tranquilo, ya pasará.'''\n",
    "    PublicarTweet(alerta_naranja)  "
   ]
  },
  {
   "cell_type": "code",
   "execution_count": 86,
   "metadata": {},
   "outputs": [],
   "source": [
    "def updatetime():\n",
    "    # This query fetches the 20 latest id from database\n",
    "    database_conection=db.create_engine(f\"postgresql://{database_username}:{database_password}@{database_ip}/{database_name}\")\n",
    "    connection = database_conection.raw_connection()\n",
    "    metadata=db.MetaData()\n",
    "    cursor = connection.cursor()\n",
    "    sql_query = \"\"\"\n",
    "    UPDATE public.twitter\n",
    "    SET fecha = current_timestamp\n",
    "    WHERE fecha is null;\n",
    "    \"\"\"\n",
    "\n",
    "    database_conection.execute(sql_query)\n",
    "    #print('fetching ids from database')\n",
    "    connection.close()"
   ]
  },
  {
   "cell_type": "code",
   "execution_count": 87,
   "metadata": {},
   "outputs": [],
   "source": [
    "updatetime()"
   ]
  }
 ],
 "metadata": {
  "interpreter": {
   "hash": "aee8b7b246df8f9039afb4144a1f6fd8d2ca17a180786b69acc140d282b71a49"
  },
  "kernelspec": {
   "display_name": "Python 3.9.13 64-bit",
   "language": "python",
   "name": "python3"
  },
  "language_info": {
   "codemirror_mode": {
    "name": "ipython",
    "version": 3
   },
   "file_extension": ".py",
   "mimetype": "text/x-python",
   "name": "python",
   "nbconvert_exporter": "python",
   "pygments_lexer": "ipython3",
   "version": "3.9.15"
  },
  "orig_nbformat": 4
 },
 "nbformat": 4,
 "nbformat_minor": 2
}

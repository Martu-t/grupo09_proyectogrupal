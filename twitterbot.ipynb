{
 "cells": [
  {
   "cell_type": "code",
   "execution_count": 2,
   "metadata": {},
   "outputs": [],
   "source": [
    "import tweepy"
   ]
  },
  {
   "cell_type": "code",
   "execution_count": 15,
   "metadata": {},
   "outputs": [],
   "source": [
    "#usamos dotenv para traer las claves del .env y mantener seguras las credenciales\n",
    "from dotenv import load_dotenv\n",
    "import os\n",
    "load_dotenv()\n",
    "\n",
    "API_KEY =os.getenv('API_KEY')\n",
    "API_SECRET =os.getenv('API_SECRET')\n",
    "ACCESS_TOKEN= os.getenv('ACCESS_TOKEN')\n",
    "ACCESS_SECRET=os.getenv('ACCESS_SECRET')\n",
    "\n",
    "auth = tweepy.OAuthHandler(API_KEY, API_SECRET)\n",
    "auth.set_access_token(ACCESS_TOKEN, ACCESS_SECRET)\n",
    " \n",
    "api = tweepy.API(auth, wait_on_rate_limit=True)\n",
    " \n",
    " \n",
    "def ObtenerUsuario(user_name):\n",
    "    return api.get_user(screen_name=user_name)\n",
    " \n",
    "def PublicarTweet(message):\n",
    "    api.update_status(status=message)\n",
    " \n",
    " \n",
    "def ObtenerTweetsDeUsuario(user_name, number_of_tweets):\n",
    "    tweets = api.user_timeline(screen_name=user_name, count=number_of_tweets)\n",
    "    return tweets\n",
    " \n",
    " \n",
    "def ObtenerSeguidoresDeUsuario(user_name, number_of_followers):\n",
    "    return tweepy.Cursor(method=api.get_followers, screen_name=user_name).items(number_of_followers)\n",
    " \n",
    " \n",
    "#def ObtenerNumeroDeSeguidoresDeUsuario(user_name):\n",
    "#    return api.get_user(screen_name=user_name).followers_count\n",
    " \n",
    " \n",
    "#def ObtenerTweetDeUsuarioPorNumero(user_name, TweetNumber):\n",
    "#    lastTweet = TweetNumber - 1\n",
    "#    return api.user_timeline(screen_name=user_name, count=TweetNumber)[lastTweet]\n",
    " \n",
    " \n",
    "#def RetwittearTweet(tweet):\n",
    "#    try:\n",
    "#        api.retweet(id=tweet.id)\n",
    "#    except:\n",
    "# \n",
    "#        print(\"Ya has retwitteado este tweet\")\n"
   ]
  },
  {
   "cell_type": "code",
   "execution_count": 17,
   "metadata": {},
   "outputs": [],
   "source": [
    "mensaje = \"Pronto tendremos novedades!\"\n",
    "PublicarTweet(mensaje)"
   ]
  }
 ],
 "metadata": {
  "interpreter": {
   "hash": "aee8b7b246df8f9039afb4144a1f6fd8d2ca17a180786b69acc140d282b71a49"
  },
  "kernelspec": {
   "display_name": "Python 3.9.13 64-bit",
   "language": "python",
   "name": "python3"
  },
  "language_info": {
   "codemirror_mode": {
    "name": "ipython",
    "version": 3
   },
   "file_extension": ".py",
   "mimetype": "text/x-python",
   "name": "python",
   "nbconvert_exporter": "python",
   "pygments_lexer": "ipython3",
   "version": "3.9.13"
  },
  "orig_nbformat": 4
 },
 "nbformat": 4,
 "nbformat_minor": 2
}

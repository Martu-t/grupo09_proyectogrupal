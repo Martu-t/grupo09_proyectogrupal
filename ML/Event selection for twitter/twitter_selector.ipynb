{
 "cells": [
  {
   "cell_type": "code",
   "execution_count": 274,
   "metadata": {},
   "outputs": [],
   "source": [
    "# THIS SCRIPT SETS THE TWITTER TABLE, GETITNG IT READY TO LOAD INTO THE DB\n",
    "\n",
    "# importing libraries\n",
    "import pandas as pd\n",
    "import numpy as np\n",
    "import sqlalchemy as db\n",
    "from geopy.distance import geodesic\n",
    "import os\n",
    "from dotenv import load_dotenv"
   ]
  },
  {
   "cell_type": "code",
   "execution_count": 275,
   "metadata": {},
   "outputs": [],
   "source": [
    "# LOADING NEEDED DATAFRAMES\n",
    "\n",
    "#1\n",
    "transf = pd.read_csv('../transformed1.csv')\n",
    "#2\n",
    "clus =  pd.read_csv('../clusterized.csv')\n",
    "\n",
    "load_dotenv()\n",
    "database_username= os.getenv('DATABASE_USERNAME')\n",
    "database_password= os.getenv('DATABASE_PASSWORD')\n",
    "database_ip= os.getenv('DATABASE_IP')\n",
    "database_name=os.getenv('DATABASE_NAME')\n",
    "database_conection=db.create_engine(f\"postgresql://{database_username}:{database_password}@{database_ip}/{database_name}\")\n",
    "connection = database_conection.raw_connection()\n",
    "#3\n",
    "city = pd.read_sql_query('SELECT id, poblacion, latitud, longitud FROM public.poblacion_chile',con=database_conection)\n",
    "connection.close()\n",
    "\n",
    "# selecting relevant features, into a new DataFrame\n",
    "data = pd.DataFrame()\n",
    "data[['id', 'mag', 'lat', 'lon']] = transf[['id', 'mag', 'lat', 'lon']]\n",
    "data['cluster'] = clus['cluster'] "
   ]
  },
  {
   "cell_type": "code",
   "execution_count": 276,
   "metadata": {},
   "outputs": [],
   "source": [
    "# SETTING GLOBAL VARIABLES\n",
    "\n",
    "# DECISION MATRIX, establishes classification boundaries\n",
    "# ---------------\n",
    "# ROWS:_________\n",
    "# row 0: [0-3) mag\n",
    "# row 1: [3-5) mag\n",
    "# row 2: [5-7) mag\n",
    "# row 3: [7+ mag \n",
    "# ---------------\n",
    "# COLUMNS: ______\n",
    "# col 0: big city & short dist\n",
    "# col 1: big city & large dist\n",
    "# col 2: small city & large dist\n",
    "# col 3: small city & short dist\n",
    "\n",
    "r0 = 3 # mag limit for row 0\n",
    "r1 = 5 # mag limit for row 1\n",
    "r2 = 7 # mag limit for row 2\n",
    "\n",
    "big_city = 50 # Population limit [thousand habitants]\n",
    "large_dist = 250 # distance limit [km]\n",
    "\n",
    "\n",
    "decision_matrix = np.array([\n",
    "    [0,  0,  0,  0],\n",
    "    [2,  1,  0,  1],\n",
    "    [2,  1,  1,  2],\n",
    "    [3,  3,  2,  3]\n",
    "])\n",
    "\n",
    "# DEFINITION RESULTS:_____\n",
    "# 0: Not informed\n",
    "# 1: Just an announcement\n",
    "# 2: Warning\n",
    "# 3: Alert\n",
    "\n",
    "# CHILEAN BOUNDARIES\n",
    "plus = 0.1\n",
    "max_lat = 90#-17.483 + plus\n",
    "min_lat = -90#-56.5366 - plus\n",
    "max_lon = 180#-66.4233 + plus\n",
    "min_lon = -180#-109.45833 - plus\n",
    "\n",
    "\n",
    "# M.L. MODEL clusters to keep\n",
    "k = [0, 2, 3]\n"
   ]
  },
  {
   "cell_type": "code",
   "execution_count": 277,
   "metadata": {},
   "outputs": [],
   "source": [
    "# Filter DataFrame to keep rows within chilean boundaries\n",
    "data = data[(data['lat']>min_lat) & (data['lat']<max_lat) & (data['lon']>min_lon) & (data['lon']<max_lon)]"
   ]
  },
  {
   "cell_type": "code",
   "execution_count": 278,
   "metadata": {},
   "outputs": [],
   "source": [
    "# Filter dataframe to discard non desired clusters\n",
    "data = data[data['cluster'].isin(k)]"
   ]
  },
  {
   "cell_type": "code",
   "execution_count": 279,
   "metadata": {},
   "outputs": [],
   "source": [
    "# Defining functions to classify the remaining rows in the reporting scale established in the decision matrix.\n",
    "\n",
    "def city_class(x):\n",
    "    '''\n",
    "    Classifies the cities according to established population limit.\n",
    "    returns 'chi' for smal cities; and 'gde' for big cities.\n",
    "    '''\n",
    "    if x < big_city:\n",
    "        return 'chi'\n",
    "    else:\n",
    "        return 'gde'\n",
    "        \n",
    "def row_result(x):\n",
    "    '''\n",
    "    Inputs the magnitude and returns the corresponding row in the decision matrix for that value.\n",
    "    '''\n",
    "    if x < r0:\n",
    "        a = 0\n",
    "    elif x < r1:\n",
    "        a = 1\n",
    "    elif x < r2:\n",
    "        a = 2\n",
    "    else:\n",
    "        a = 3\n",
    "    return a \n",
    "\n",
    "\n",
    "def closest_city(lat,lon,city):\n",
    "    '''\n",
    "    Inputs a latitude and longitude defining a place; then returns a comma separated string with:\n",
    "    a. id of the closest city.\n",
    "    b. distance to the closest city.\n",
    "    c. city size according to established criteria.\n",
    "    '''\n",
    "    a = city.loc[0,'id']\n",
    "    b = 21000 # half the Earth's perimeter (max possible distance).\n",
    "    c = city.loc[0,'size']\n",
    "\n",
    "    for i in range (0,len(city)):\n",
    "        try:\n",
    "            aux = geodesic((lat,lon),(city.loc[i,'latitud'],city.loc[i,'longitud'])).kilometers\n",
    "            if aux < b:\n",
    "                a = city.loc[i,'id']\n",
    "                b = aux\n",
    "                c = city.loc[i,'size']\n",
    "        except:\n",
    "            pass    \n",
    "\n",
    "    return str(a)+','+str(round(b,2))+','+str(c)\n",
    "    \n",
    "def col_result(dist, size):\n",
    "    '''\n",
    "    Inputs distance to the closest city and its size, \n",
    "    and returns the corresponding columns in the decision matrix for that combination of value.\n",
    "    '''\n",
    "    \n",
    "    if size == 'gde':\n",
    "        if dist < large_dist:\n",
    "            col = 0\n",
    "        else:\n",
    "            col = 1\n",
    "    else:\n",
    "        if dist > large_dist:\n",
    "            col = 2\n",
    "        else:\n",
    "            col = 3    \n",
    "    return  col\n",
    "\n",
    "def final_class(row,col):\n",
    "    '''\n",
    "    Returns the final classification based on row-col of the decision matrix.\n",
    "    '''\n",
    "    return decision_matrix[row,col]"
   ]
  },
  {
   "cell_type": "code",
   "execution_count": 280,
   "metadata": {},
   "outputs": [],
   "source": [
    "if len(data) > 0:\n",
    "    city['size'] = city['poblacion'].apply(lambda x: city_class(x))\n",
    "    data['row_result'] = data['mag'].apply(lambda x: row_result(x))\n",
    "    data['id_ciudad'] = data.apply(lambda x: closest_city(x['lat'],x['lon'],city), axis =1)\n",
    "    data[['id_ciudad', 'dist', 'size']] = data['id_ciudad'].str.split(',', expand=True)\n",
    "    data['dist']=data['dist'].astype(float)\n",
    "    data['col_result'] = data.apply(lambda x: col_result(x['dist'],x['size']), axis =1)\n",
    "    data['final_class'] = data.apply(lambda x: final_class(x['row_result'],x['col_result']), axis =1)"
   ]
  },
  {
   "cell_type": "code",
   "execution_count": 281,
   "metadata": {},
   "outputs": [],
   "source": [
    "data.reset_index(inplace=True)"
   ]
  },
  {
   "cell_type": "code",
   "execution_count": 282,
   "metadata": {},
   "outputs": [],
   "source": [
    "twitter = pd.DataFrame()\n",
    "nan_series = pd.Series(np.nan, index = np.arange(len(data)))\n",
    "\n",
    "twitter['id'] = nan_series\n",
    "twitter['id_terremotos'] =  data['id']\n",
    "twitter['fecha'] = nan_series\n",
    "twitter['clasificacion'] = data['final_class']\n",
    "twitter['id_ciudad'] = data['id_ciudad']\n",
    "twitter['distancia']= data['dist']"
   ]
  },
  {
   "cell_type": "code",
   "execution_count": 283,
   "metadata": {},
   "outputs": [],
   "source": [
    "# Final filter, only upload to report events with final classification not equal to 0\n",
    "twitter_final = twitter[twitter['clasificacion']!=0]"
   ]
  },
  {
   "cell_type": "code",
   "execution_count": 284,
   "metadata": {},
   "outputs": [
    {
     "data": {
      "text/html": [
       "<div>\n",
       "<style scoped>\n",
       "    .dataframe tbody tr th:only-of-type {\n",
       "        vertical-align: middle;\n",
       "    }\n",
       "\n",
       "    .dataframe tbody tr th {\n",
       "        vertical-align: top;\n",
       "    }\n",
       "\n",
       "    .dataframe thead th {\n",
       "        text-align: right;\n",
       "    }\n",
       "</style>\n",
       "<table border=\"1\" class=\"dataframe\">\n",
       "  <thead>\n",
       "    <tr style=\"text-align: right;\">\n",
       "      <th></th>\n",
       "      <th>id</th>\n",
       "      <th>id_terremotos</th>\n",
       "      <th>fecha</th>\n",
       "      <th>clasificacion</th>\n",
       "      <th>id_ciudad</th>\n",
       "      <th>distancia</th>\n",
       "    </tr>\n",
       "  </thead>\n",
       "  <tbody>\n",
       "  </tbody>\n",
       "</table>\n",
       "</div>"
      ],
      "text/plain": [
       "Empty DataFrame\n",
       "Columns: [id, id_terremotos, fecha, clasificacion, id_ciudad, distancia]\n",
       "Index: []"
      ]
     },
     "execution_count": 284,
     "metadata": {},
     "output_type": "execute_result"
    }
   ],
   "source": [
    "# Export as csv\n",
    "twitter_final.to_csv('twitter.csv', index=False)"
   ]
  }
 ],
 "metadata": {
  "kernelspec": {
   "display_name": "Python 3.10.6 64-bit",
   "language": "python",
   "name": "python3"
  },
  "language_info": {
   "codemirror_mode": {
    "name": "ipython",
    "version": 3
   },
   "file_extension": ".py",
   "mimetype": "text/x-python",
   "name": "python",
   "nbconvert_exporter": "python",
   "pygments_lexer": "ipython3",
   "version": "3.10.6"
  },
  "orig_nbformat": 4,
  "vscode": {
   "interpreter": {
    "hash": "23dc6115c685ef902bd6c2b31d4ebe483dd4987a646bfcdbb0e0f7bcb4f7e7e8"
   }
  }
 },
 "nbformat": 4,
 "nbformat_minor": 2
}

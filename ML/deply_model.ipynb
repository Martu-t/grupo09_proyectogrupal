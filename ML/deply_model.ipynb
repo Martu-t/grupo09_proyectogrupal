{
 "cells": [
  {
   "cell_type": "code",
   "execution_count": 2,
   "metadata": {},
   "outputs": [],
   "source": [
    "import pandas as pd\n",
    "import joblib\n",
    "data = pd.read_csv('transformed1.csv')\n",
    "dataml = data[['mag', 'tsunami', 'type', 'depth', 'dist']]\n",
    "pre = joblib.load('pre.pkl')\n",
    "clf = joblib.load('km_4.pkl')\n",
    "dataml = pre.transform(dataml)\n",
    "clus = clf.predict(dataml)\n",
    "clusters = pd.DataFrame()\n",
    "clusters['id_earthquake'], clusters['cluster'] = data['id'], clus\n",
    "clusters.to_csv('clusterized.csv')"
   ]
  }
 ],
 "metadata": {
  "kernelspec": {
   "display_name": "Python 3.10.6 64-bit",
   "language": "python",
   "name": "python3"
  },
  "language_info": {
   "codemirror_mode": {
    "name": "ipython",
    "version": 3
   },
   "file_extension": ".py",
   "mimetype": "text/x-python",
   "name": "python",
   "nbconvert_exporter": "python",
   "pygments_lexer": "ipython3",
   "version": "3.10.6"
  },
  "orig_nbformat": 4,
  "vscode": {
   "interpreter": {
    "hash": "23dc6115c685ef902bd6c2b31d4ebe483dd4987a646bfcdbb0e0f7bcb4f7e7e8"
   }
  }
 },
 "nbformat": 4,
 "nbformat_minor": 2
}
